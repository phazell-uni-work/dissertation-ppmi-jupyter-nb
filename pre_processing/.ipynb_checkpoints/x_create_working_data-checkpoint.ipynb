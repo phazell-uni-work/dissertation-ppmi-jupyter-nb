{
 "cells": [
  {
   "cell_type": "code",
   "execution_count": 1,
   "id": "62f3c3e5",
   "metadata": {},
   "outputs": [],
   "source": [
    "import pandas\n",
    "import numpy\n",
    "\n",
    "updrs_ii = pandas.read_csv('../source_data/MDS_UPDRS_Part_II__Patient_Questionnaire.csv')\n",
    "falls = pandas.read_csv('../source_data/Determination_of_Freezing_and_Falls.csv')\n"
   ]
  },
  {
   "cell_type": "markdown",
   "id": "df721081",
   "metadata": {},
   "source": [
    "### Create updrsii_sigfall\n",
    "Concatenation of updrsII data & SIGFALL; a summary statistic derived from falls data"
   ]
  },
  {
   "cell_type": "code",
   "execution_count": 2,
   "id": "e35206b6",
   "metadata": {},
   "outputs": [],
   "source": [
    "# --- Summarise significant falls into SIGFALL binary flag ---\n",
    "\n",
    "def sigfall(row):\n",
    "    if row['FLLDRVIS'] == 1.0:\n",
    "        return 1.0\n",
    "    if row['FLLERVIS'] == 1.0:\n",
    "        return 1.0\n",
    "    if row['FLLHOSP'] == 1.0:\n",
    "        return 1.0\n",
    "    if row['FLLSURG'] == 1.0:\n",
    "        return 1.0\n",
    "    if row['FLLINST'] == 1.0:\n",
    "        return 1.0\n",
    "    else:\n",
    "        return 0.0\n",
    "    \n",
    "    \n",
    "falls['SIGFALL'] = falls.apply (lambda row: sigfall(row), axis=1)"
   ]
  },
  {
   "cell_type": "code",
   "execution_count": 4,
   "id": "1705e84b",
   "metadata": {},
   "outputs": [],
   "source": [
    "# --- Create dataframe that combines UPDRSii data with SIGFALL binary flag ---\n",
    "\n",
    "def sig_get(row):\n",
    "    patno = row['PATNO']\n",
    "    infodt = row['INFODT']\n",
    "    \n",
    "    s1 = falls[(falls.INFODT == infodt) & (falls.PATNO == patno)]['SIGFALL']\n",
    "    if s1.empty:    \n",
    "        return numpy.nan\n",
    "    else:\n",
    "        return s1.values[0]\n",
    "\n",
    "\n",
    "updrs_sigfall_base = updrs_ii.drop(['REC_ID','EVENT_ID','PAG_NAME','NUPSOURC','ORIG_ENTRY','LAST_UPDATE'], axis=1)\n",
    "updrs_sigfall_base['SIGFALL'] = updrs_sigfall_base.apply (lambda row: sig_get(row), axis=1)\n",
    "updrs_sigfall_base.to_csv('../working_data/updrs_sigfall_base.csv',index=False)"
   ]
  },
  {
   "cell_type": "code",
   "execution_count": 5,
   "id": "25e2aee8",
   "metadata": {},
   "outputs": [],
   "source": [
    "# Drop rows without SIGFALL data\n",
    "\n",
    "updrs_sigfall = updrs_sigfall_base.dropna()\n",
    "updrs_sigfall.to_csv('../working_data/updrs_sigfall.csv',index=False)"
   ]
  },
  {
   "cell_type": "code",
   "execution_count": 6,
   "id": "6e7829b4",
   "metadata": {},
   "outputs": [],
   "source": [
    "# Drop UPDRS total value\n",
    "\n",
    "updrs_sigfall_raw = updrs_sigfall.drop('NP2PTOT',axis = 1)\n",
    "updrs_sigfall_raw.to_csv('../working_data/updrs_sigfall_raw.csv',index=False)"
   ]
  },
  {
   "cell_type": "markdown",
   "id": "acc3e569",
   "metadata": {},
   "source": [
    "### Create updrsii_future_sigfall\n",
    "Concatenation of updrsII data with SIGFALL from the next recorded entry for that patient (chronologically speaking)"
   ]
  },
  {
   "cell_type": "code",
   "execution_count": 7,
   "id": "5ddd0737",
   "metadata": {},
   "outputs": [],
   "source": [
    "def get_infodts(patno):\n",
    "    return list(updrs_sigfall_base[updrs_sigfall_base.PATNO == patno]['INFODT'].values)\n",
    "\n",
    "def date_to_tuple(date):\n",
    "    year = date[-4:]\n",
    "    month = date[:2]\n",
    "    return (month,year,date)\n",
    "\n",
    "def date_sort(dates):\n",
    "    tup_list = map(date_to_tuple,dates)\n",
    "    return sorted(tup_list, key = lambda x: (x[1],x[0]))\n",
    "\n",
    "def get_index(date,dates):\n",
    "    output = (False,999)    \n",
    "    for idx, val in enumerate(dates):\n",
    "        if val[2] == date:\n",
    "            output = (True,idx)\n",
    "    return output\n",
    "\n",
    "def next_sigfall(row):\n",
    "    output = numpy.nan\n",
    "    patno = row['PATNO']\n",
    "    infodt = row['INFODT']    \n",
    "    dates = get_infodts(patno)\n",
    "    sorted_dates = date_sort(dates)\n",
    "    i = get_index(infodt,sorted_dates)\n",
    "    \n",
    "    if i[0] == True:\n",
    "        try:\n",
    "            next_date_index = i[1] + 1\n",
    "            next_date = sorted_dates[next_date_index][2]\n",
    "            output = updrs_sigfall_base[(updrs_sigfall_base.INFODT == next_date ) & (updrs_sigfall_base.PATNO == patno)]['SIGFALL'].values[0]\n",
    "        except:\n",
    "            pass\n",
    "    return output\n",
    "\n",
    "\n",
    "updrs_future_sigfall = updrs_sigfall_base.drop('SIGFALL',axis=1)\n",
    "updrs_future_sigfall['SIGFALL_NEXT'] = updrs_future_sigfall.apply (lambda row: next_sigfall(row), axis=1)\n",
    "updrs_future_sigfall = updrs_future_sigfall.dropna()\n",
    "updrs_future_sigfall.to_csv('../working_data/updrs_future_sigfall.csv',index=False)"
   ]
  },
  {
   "cell_type": "code",
   "execution_count": 8,
   "id": "d243dc47",
   "metadata": {},
   "outputs": [],
   "source": [
    "updrs_future_sigfall_raw = updrs_future_sigfall.drop('NP2PTOT',axis = 1)\n",
    "updrs_future_sigfall_raw.to_csv('../working_data/updrs_future_sigfall_raw.csv',index=False)"
   ]
  },
  {
   "cell_type": "markdown",
   "id": "1d4f56a8",
   "metadata": {},
   "source": [
    "### Create increase_updrs_sigfall\n",
    "Concatenation of SIGFALL & the increase (if any) between the current UPDRS scores & the UPDRS scores of the last visit"
   ]
  },
  {
   "cell_type": "code",
   "execution_count": 9,
   "id": "245b3ef2",
   "metadata": {},
   "outputs": [],
   "source": [
    "def prev_value(row,q):\n",
    "    output = numpy.nan\n",
    "    patno = row['PATNO']\n",
    "    infodt = row['INFODT']    \n",
    "    dates = get_infodts(patno)\n",
    "    sorted_dates = date_sort(dates)\n",
    "    i = get_index(infodt,sorted_dates)\n",
    "    \n",
    "    if i[0] == True:\n",
    "        try:\n",
    "            prev_date_index = i[1] - 1\n",
    "            if prev_date_index > -1:\n",
    "                prev_date = sorted_dates[prev_date_index][2]\n",
    "                output = updrs_sigfall_base[(updrs_sigfall_base.INFODT == prev_date ) & (updrs_sigfall_base.PATNO == patno)][q].values[0]\n",
    "        except:\n",
    "            pass\n",
    "    return output\n",
    "\n",
    "def q_delta(row,q):\n",
    "    output = numpy.nan\n",
    "    patno = row['PATNO']\n",
    "    infodt = row['INFODT']\n",
    "    \n",
    "    current = updrs_sigfall_base[(updrs_sigfall_base.INFODT == infodt ) & (updrs_sigfall_base.PATNO == patno)][q].values[0]\n",
    "    prev = prev_value(row,q)\n",
    "    \n",
    "    try:\n",
    "        result = current - prev\n",
    "        if result > 0:\n",
    "            output = result\n",
    "        else:\n",
    "            output = 0.0\n",
    "    except:\n",
    "        pass\n",
    "    return output\n",
    "    \n",
    "updrs_qs = ['NP2SPCH','NP2SALV','NP2SWAL','NP2EAT','NP2DRES','NP2HYGN','NP2HWRT','NP2HOBB','NP2TURN','NP2TRMR','NP2RISE','NP2WALK','NP2FREZ','NP2PTOT']\n",
    "q_pairs = [(x,('I_'+x)) for x in updrs_qs]\n",
    "\n",
    "increase_updrs_sigfall = updrs_sigfall_base.drop(['NP2SPCH','NP2SALV','NP2SWAL','NP2EAT','NP2DRES','NP2HYGN','NP2HWRT','NP2HOBB','NP2TURN','NP2TRMR','NP2RISE','NP2WALK','NP2FREZ','NP2PTOT','SIGFALL'],axis=1)\n",
    "\n",
    "for x in q_pairs:\n",
    "    increase_updrs_sigfall[x[1]] = increase_updrs_sigfall.apply (lambda row: q_delta(row,x[0]), axis=1)\n",
    "    \n",
    "increase_updrs_sigfall['SIGFALL'] = increase_updrs_sigfall.apply (lambda row: sig_get(row), axis=1)\n",
    "increase_updrs_sigfall = increase_updrs_sigfall.dropna()\n",
    "increase_updrs_sigfall.to_csv('../working_data/increased_updrs_sigfall.csv',index=False)"
   ]
  },
  {
   "cell_type": "code",
   "execution_count": 10,
   "id": "903c6fb4",
   "metadata": {},
   "outputs": [],
   "source": [
    "increase_updrs_sigfall_raw = increase_updrs_sigfall.drop('I_NP2PTOT',axis=1)\n",
    "increase_updrs_sigfall_raw.to_csv('../working_data/increased_updrs_sigfall_raw.csv',index=False)"
   ]
  },
  {
   "cell_type": "markdown",
   "id": "81fd86ae",
   "metadata": {},
   "source": [
    "### Create delta_updrs_sigfall\n",
    "Like above but the raw delta is preserved"
   ]
  },
  {
   "cell_type": "code",
   "execution_count": 11,
   "id": "e7aae6c7",
   "metadata": {},
   "outputs": [],
   "source": [
    "def q_delta_actual(row,q):\n",
    "    output = numpy.nan\n",
    "    patno = row['PATNO']\n",
    "    infodt = row['INFODT']\n",
    "    \n",
    "    current = updrs_sigfall_base[(updrs_sigfall_base.INFODT == infodt ) & (updrs_sigfall_base.PATNO == patno)][q].values[0]\n",
    "    prev = prev_value(row,q)\n",
    "    \n",
    "    try:\n",
    "        output = current - prev\n",
    "    except:\n",
    "        pass\n",
    "    return output\n",
    "\n",
    "\n",
    "dq_pairs = [(x,('D_'+x)) for x in updrs_qs]\n",
    "\n",
    "delta_updrs_sigfall = updrs_sigfall_base.drop(['NP2SPCH','NP2SALV','NP2SWAL','NP2EAT','NP2DRES','NP2HYGN','NP2HWRT','NP2HOBB','NP2TURN','NP2TRMR','NP2RISE','NP2WALK','NP2FREZ','NP2PTOT','SIGFALL'],axis=1)\n",
    "\n",
    "for x in dq_pairs:\n",
    "    delta_updrs_sigfall[x[1]] = delta_updrs_sigfall.apply (lambda row: q_delta_actual(row,x[0]), axis=1)\n",
    "    \n",
    "delta_updrs_sigfall['SIGFALL'] = delta_updrs_sigfall.apply (lambda row: sig_get(row), axis=1)\n",
    "delta_updrs_sigfall = delta_updrs_sigfall.dropna()\n",
    "delta_updrs_sigfall.to_csv('../working_data/delta_updrs_sigfall.csv',index=False)\n",
    "\n",
    "delta_updrs_sigfall_raw = delta_updrs_sigfall.drop('D_NP2PTOT',axis=1)\n",
    "delta_updrs_sigfall_raw.to_csv('../working_data/delta_updrs_sigfall_raw.csv',index=False)"
   ]
  },
  {
   "cell_type": "code",
   "execution_count": null,
   "id": "21289983",
   "metadata": {},
   "outputs": [],
   "source": []
  }
 ],
 "metadata": {
  "kernelspec": {
   "display_name": "Python 3 (ipykernel)",
   "language": "python",
   "name": "python3"
  },
  "language_info": {
   "codemirror_mode": {
    "name": "ipython",
    "version": 3
   },
   "file_extension": ".py",
   "mimetype": "text/x-python",
   "name": "python",
   "nbconvert_exporter": "python",
   "pygments_lexer": "ipython3",
   "version": "3.8.13"
  }
 },
 "nbformat": 4,
 "nbformat_minor": 5
}
