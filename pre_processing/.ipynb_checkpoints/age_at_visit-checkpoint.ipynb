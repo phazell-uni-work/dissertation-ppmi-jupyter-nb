{
 "cells": [
  {
   "cell_type": "code",
   "execution_count": 2,
   "id": "0732df45-1737-4920-8435-2d8f0ee87141",
   "metadata": {},
   "outputs": [
    {
     "data": {
      "text/plain": [
       "54.3"
      ]
     },
     "execution_count": 2,
     "metadata": {},
     "output_type": "execute_result"
    }
   ],
   "source": [
    "import pandas\n",
    "import numpy\n",
    "\n",
    "df_age_at_visit = pandas.read_csv('../source_data/Age_at_visit.csv')\n",
    "\n",
    "def age_at_visit(patno,event_id):\n",
    "    patno = int(patno)\n",
    "    try:\n",
    "        return df_age_at_visit[(df_age_at_visit['PATNO'] == patno) & (df_age_at_visit['EVENT_ID'] == event_id)]['AGE_AT_VISIT'].values[0]\n",
    "    except:\n",
    "        print(f'{patno}:{event_id} not found')\n",
    "\n",
    "age_at_visit(3108, \"V11\")"
   ]
  }
 ],
 "metadata": {
  "kernelspec": {
   "display_name": "Python 3 (ipykernel)",
   "language": "python",
   "name": "python3"
  },
  "language_info": {
   "codemirror_mode": {
    "name": "ipython",
    "version": 3
   },
   "file_extension": ".py",
   "mimetype": "text/x-python",
   "name": "python",
   "nbconvert_exporter": "python",
   "pygments_lexer": "ipython3",
   "version": "3.8.13"
  }
 },
 "nbformat": 4,
 "nbformat_minor": 5
}
