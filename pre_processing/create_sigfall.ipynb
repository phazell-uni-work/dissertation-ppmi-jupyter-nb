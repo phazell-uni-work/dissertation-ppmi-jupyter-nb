{
 "cells": [
  {
   "cell_type": "code",
   "execution_count": 1,
   "id": "e71236d4-b1d8-48e7-972f-49d807a70fbd",
   "metadata": {},
   "outputs": [],
   "source": [
    "import pandas\n",
    "import numpy\n",
    "\n",
    "df_falls = pandas.read_csv('../source_data/Determination_of_Freezing_and_Falls.csv')\n",
    "df_participant_data = pandas.read_csv('../source_data/participant_main.csv')\n",
    "df_patnos = pandas.read_csv('../source_data/non_hc_patnos.csv')\n",
    "non_hc_patnos = list(df_patnos.values.flat)\n",
    "df_age_at_visit = pandas.read_csv('../source_data/Age_at_visit.csv')\n"
   ]
  },
  {
   "cell_type": "code",
   "execution_count": 2,
   "id": "be6928ca-2b77-4079-878b-fe62b0e25b5a",
   "metadata": {},
   "outputs": [
    {
     "name": "stdout",
     "output_type": "stream",
     "text": [
      "3961:V14 not found\n"
     ]
    }
   ],
   "source": [
    "def age_at_visit(patno,event_id):\n",
    "    patno = int(patno)\n",
    "    try:\n",
    "        return df_age_at_visit[(df_age_at_visit['PATNO'] == patno) & (df_age_at_visit['EVENT_ID'] == event_id)]['AGE_AT_VISIT'].values[0]\n",
    "    except:\n",
    "        print(f'{patno}:{event_id} not found')\n",
    "        \n",
    "def add_age(row):\n",
    "    p = row['PATNO']\n",
    "    e = row['EVENT_ID']\n",
    "    return age_at_visit(p,e)\n",
    "\n",
    "df_falls['AGE_AT_EVENT'] = df_falls.apply (lambda row: add_age(row), axis=1)"
   ]
  },
  {
   "cell_type": "code",
   "execution_count": 3,
   "id": "67397003-b8d3-473c-a7d0-2a0da915b5e7",
   "metadata": {},
   "outputs": [],
   "source": [
    "# --- Summarise significant falls into SIGFALL binary flag ---\n",
    "\n",
    "def sigfall(row):\n",
    "    if row['FLLDRVIS'] == 1.0:\n",
    "        return 1.0\n",
    "    if row['FLLERVIS'] == 1.0:\n",
    "        return 1.0\n",
    "    if row['FLLHOSP'] == 1.0:\n",
    "        return 1.0\n",
    "    if row['FLLSURG'] == 1.0:\n",
    "        return 1.0\n",
    "    if row['FLLINST'] == 1.0:\n",
    "        return 1.0\n",
    "    else:\n",
    "        return 0.0\n",
    "    \n",
    "df_falls['SIGFALL'] = df_falls.apply (lambda row: sigfall(row), axis=1)"
   ]
  },
  {
   "cell_type": "code",
   "execution_count": 4,
   "id": "34384185-b0d7-4cba-a658-4e494bbdbde9",
   "metadata": {},
   "outputs": [],
   "source": [
    "# Create PREV_SIGFALL bool, 1 if any other SIGFALL records exist for that PATNO\n",
    "\n",
    "def get_infodts(patno):\n",
    "    return list(df_falls[df_falls.PATNO == patno]['INFODT'].values)\n",
    "\n",
    "def date_to_tuple(date):\n",
    "    year = date[-4:]\n",
    "    month = date[:2]\n",
    "    return (month,year,date)\n",
    "\n",
    "def date_sort(dates):\n",
    "    tup_list = map(date_to_tuple,dates)\n",
    "    return sorted(tup_list, key = lambda x: (x[1],x[0]))\n",
    "\n",
    "def get_index(date,dates):\n",
    "    output = (False,999)    \n",
    "    for idx, val in enumerate(dates):\n",
    "        if val[2] == date:\n",
    "            output = (True,idx)\n",
    "    return output\n",
    "\n",
    "def prev_sigfall(row):\n",
    "    output = 0\n",
    "    patno = row['PATNO']\n",
    "    infodt = row['INFODT']    \n",
    "    dates = get_infodts(patno)\n",
    "    sorted_dates = date_sort(dates)\n",
    "    i = get_index(infodt,sorted_dates)\n",
    "    older_dates = sorted_dates[0:i[1]]\n",
    "    \n",
    "    for od in older_dates:\n",
    "        try:\n",
    "            sf = df_falls[(df_falls.INFODT == f'{od[0]}/{od[1]}' ) & (df_falls.PATNO == patno)]['SIGFALL'].values[0]\n",
    "            if sf == 1:\n",
    "                output = 1\n",
    "        except:\n",
    "            pass\n",
    "    \n",
    "    return output\n",
    "\n",
    "# Generate PREV_SIGFALL\n",
    "\n",
    "df_falls['PREV_SIGFALL'] = df_falls.apply (lambda row: prev_sigfall(row), axis=1)"
   ]
  },
  {
   "cell_type": "code",
   "execution_count": 9,
   "id": "d0cbefa2-7185-47e8-ac4d-e7f626c25ee1",
   "metadata": {},
   "outputs": [
    {
     "data": {
      "text/plain": [
       "(1677, 28)"
      ]
     },
     "execution_count": 9,
     "metadata": {},
     "output_type": "execute_result"
    }
   ],
   "source": [
    "df_falls.shape\n",
    "# df_falls.head(20)\n",
    "# df_falls.PREV_SIGFALL.value_counts()\n",
    "# df_falls.query('PATNO == 3434').head(10)\n",
    "# df_falls.query('PREV_SIGFALL == 1').head(10)"
   ]
  },
  {
   "cell_type": "code",
   "execution_count": 5,
   "id": "2182a644-70fe-44de-9608-e78ec12e8079",
   "metadata": {},
   "outputs": [
    {
     "data": {
      "text/plain": [
       "Index(['REC_ID', 'PATNO', 'EVENT_ID', 'PAG_NAME', 'INFODT', 'PTCGBOTH',\n",
       "       'FRZGT1W', 'FLNFR1W', 'FRZGT12M', 'FLNFR12M', 'INJFRHIP', 'INJFRUE',\n",
       "       'INJFRSKL', 'INJFROTH', 'HINJNOLC', 'HINJLOC2', 'INJSTCH', 'INJOTH',\n",
       "       'FLLDRVIS', 'FLLERVIS', 'FLLHOSP', 'FLLSURG', 'FLLINST', 'ORIG_ENTRY',\n",
       "       'LAST_UPDATE', 'AGE_AT_EVENT', 'SIGFALL', 'PREV_SIGFALL'],\n",
       "      dtype='object')"
      ]
     },
     "execution_count": 5,
     "metadata": {},
     "output_type": "execute_result"
    }
   ],
   "source": [
    "# Remove healthy cohort patients\n",
    "\n",
    "df_falls_pd = df_falls[df_falls['PATNO'].isin(non_hc_patnos)]\n",
    "df_falls_pd.columns"
   ]
  },
  {
   "cell_type": "code",
   "execution_count": 6,
   "id": "22f3cda4-7307-42fb-a071-aba8258bfb27",
   "metadata": {},
   "outputs": [
    {
     "data": {
      "text/html": [
       "<div>\n",
       "<style scoped>\n",
       "    .dataframe tbody tr th:only-of-type {\n",
       "        vertical-align: middle;\n",
       "    }\n",
       "\n",
       "    .dataframe tbody tr th {\n",
       "        vertical-align: top;\n",
       "    }\n",
       "\n",
       "    .dataframe thead th {\n",
       "        text-align: right;\n",
       "    }\n",
       "</style>\n",
       "<table border=\"1\" class=\"dataframe\">\n",
       "  <thead>\n",
       "    <tr style=\"text-align: right;\">\n",
       "      <th></th>\n",
       "      <th>PATNO</th>\n",
       "      <th>EVENT_ID</th>\n",
       "      <th>INFODT</th>\n",
       "      <th>AGE_AT_EVENT</th>\n",
       "      <th>PREV_SIGFALL</th>\n",
       "      <th>SIGFALL</th>\n",
       "    </tr>\n",
       "  </thead>\n",
       "  <tbody>\n",
       "    <tr>\n",
       "      <th>2</th>\n",
       "      <td>3001</td>\n",
       "      <td>V15</td>\n",
       "      <td>03/2019</td>\n",
       "      <td>73.2</td>\n",
       "      <td>0</td>\n",
       "      <td>0.0</td>\n",
       "    </tr>\n",
       "    <tr>\n",
       "      <th>3</th>\n",
       "      <td>3001</td>\n",
       "      <td>V17</td>\n",
       "      <td>09/2021</td>\n",
       "      <td>75.7</td>\n",
       "      <td>0</td>\n",
       "      <td>1.0</td>\n",
       "    </tr>\n",
       "    <tr>\n",
       "      <th>4</th>\n",
       "      <td>3001</td>\n",
       "      <td>V18</td>\n",
       "      <td>07/2022</td>\n",
       "      <td>76.5</td>\n",
       "      <td>1</td>\n",
       "      <td>0.0</td>\n",
       "    </tr>\n",
       "    <tr>\n",
       "      <th>5</th>\n",
       "      <td>3002</td>\n",
       "      <td>V15</td>\n",
       "      <td>03/2019</td>\n",
       "      <td>75.6</td>\n",
       "      <td>0</td>\n",
       "      <td>0.0</td>\n",
       "    </tr>\n",
       "    <tr>\n",
       "      <th>6</th>\n",
       "      <td>3002</td>\n",
       "      <td>V17</td>\n",
       "      <td>09/2021</td>\n",
       "      <td>78.1</td>\n",
       "      <td>0</td>\n",
       "      <td>0.0</td>\n",
       "    </tr>\n",
       "  </tbody>\n",
       "</table>\n",
       "</div>"
      ],
      "text/plain": [
       "   PATNO EVENT_ID   INFODT  AGE_AT_EVENT  PREV_SIGFALL  SIGFALL\n",
       "2   3001      V15  03/2019          73.2             0      0.0\n",
       "3   3001      V17  09/2021          75.7             0      1.0\n",
       "4   3001      V18  07/2022          76.5             1      0.0\n",
       "5   3002      V15  03/2019          75.6             0      0.0\n",
       "6   3002      V17  09/2021          78.1             0      0.0"
      ]
     },
     "execution_count": 6,
     "metadata": {},
     "output_type": "execute_result"
    }
   ],
   "source": [
    "df_falls_output = df_falls_pd[['PATNO', 'EVENT_ID','INFODT', 'AGE_AT_EVENT','PREV_SIGFALL','SIGFALL']]\n",
    "df_falls_output.head()"
   ]
  },
  {
   "cell_type": "code",
   "execution_count": 7,
   "id": "0f99878e-e01a-4cb4-bf8a-5537da81a911",
   "metadata": {},
   "outputs": [],
   "source": [
    "df_falls_output.to_csv('../source_data/sigfall_main.csv', index=False)"
   ]
  },
  {
   "cell_type": "code",
   "execution_count": 126,
   "id": "daa8cb88-e65f-4eb1-9a3a-58414fbfb6f5",
   "metadata": {},
   "outputs": [
    {
     "name": "stdout",
     "output_type": "stream",
     "text": [
      "(1357, 5)\n",
      "(124, 6)\n",
      "0.09137803979366249\n",
      "0.09137803979366249\n"
     ]
    },
    {
     "data": {
      "text/plain": [
       "True"
      ]
     },
     "execution_count": 126,
     "metadata": {},
     "output_type": "execute_result"
    }
   ],
   "source": [
    "#--------------- SIGFALL general analysis --------------------\n",
    "\n",
    "# The SIGFALLS only occur in PD patients\n",
    "\n",
    "# P(SIGFALL) - non-hc\n",
    "print(df_falls_ouput.shape)\n",
    "print(df_falls_output.query('SIGFALL == 1.0').shape)\n",
    "a,_ = df_falls_ouput.shape\n",
    "sf,_ = df_falls_output.query('SIGFALL == 1.0').shape\n",
    "p_sf = sf/a\n",
    "print(p_sf)\n",
    "\n",
    "# P(SIGFALL) - All cohorts\n",
    "b,_ = df_falls_pd.shape\n",
    "sf2,_ = df_falls_pd.query('SIGFALL == 1.0').shape\n",
    "p_sf2 = sf2/b\n",
    "print(p_sf2)\n",
    "\n",
    "# SIGFALL count comparison\n",
    "sf == sf2\n",
    "# repeat fallers\n",
    "# df_falls_output.query('SIGFALL == 1.0').PATNO.value_counts()"
   ]
  },
  {
   "cell_type": "code",
   "execution_count": 131,
   "id": "23f09231-5a97-45c1-97a9-8bf9e113aa53",
   "metadata": {},
   "outputs": [
    {
     "name": "stdout",
     "output_type": "stream",
     "text": [
      "52\n",
      "20\n",
      "0.38461538461538464\n"
     ]
    },
    {
     "data": {
      "text/plain": [
       "4.209057071960298"
      ]
     },
     "execution_count": 131,
     "metadata": {},
     "output_type": "execute_result"
    }
   ],
   "source": [
    "# The influence of having had a previous fall SIGFALL_PREV\n",
    "c,_ = sf2,_ = df_falls_pd.query('PREV_SIGFALL == 1.0').shape\n",
    "sf3,_ = df_falls_pd.query('SIGFALL == 1.0 & PREV_SIGFALL == 1.0').shape\n",
    "p_sf3 = sf3/c\n",
    "print(c)\n",
    "print(sf3)\n",
    "print(p_sf3)\n",
    "# How much more likely are you to experience SIGFALL if you have had PREV_SIGFALL\n",
    "p_sf3/p_sf"
   ]
  },
  {
   "cell_type": "code",
   "execution_count": 137,
   "id": "e9671ba8-75b4-4a69-8f79-70d4b42a31c5",
   "metadata": {},
   "outputs": [
    {
     "name": "stdout",
     "output_type": "stream",
     "text": [
      "count    1355.000000\n",
      "mean       67.106790\n",
      "std         8.542152\n",
      "min        30.600000\n",
      "25%        61.250000\n",
      "50%        67.700000\n",
      "75%        73.300000\n",
      "max        90.600000\n",
      "Name: AGE_AT_EVENT, dtype: float64\n"
     ]
    },
    {
     "data": {
      "text/plain": [
       "count    124.000000\n",
       "mean      70.629839\n",
       "std        7.970382\n",
       "min       48.300000\n",
       "25%       66.100000\n",
       "50%       72.150000\n",
       "75%       75.625000\n",
       "max       88.500000\n",
       "Name: AGE_AT_EVENT, dtype: float64"
      ]
     },
     "execution_count": 137,
     "metadata": {},
     "output_type": "execute_result"
    }
   ],
   "source": [
    "# Age Demographics\n",
    "print(df_falls_ouput.AGE_AT_EVENT.describe())\n",
    "df_falls_ouput.query('SIGFALL == 1.0').AGE_AT_EVENT.describe()"
   ]
  }
 ],
 "metadata": {
  "kernelspec": {
   "display_name": "Python 3 (ipykernel)",
   "language": "python",
   "name": "python3"
  },
  "language_info": {
   "codemirror_mode": {
    "name": "ipython",
    "version": 3
   },
   "file_extension": ".py",
   "mimetype": "text/x-python",
   "name": "python",
   "nbconvert_exporter": "python",
   "pygments_lexer": "ipython3",
   "version": "3.8.13"
  }
 },
 "nbformat": 4,
 "nbformat_minor": 5
}
