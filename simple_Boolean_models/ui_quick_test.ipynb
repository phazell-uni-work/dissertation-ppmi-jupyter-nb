{
 "cells": [
  {
   "cell_type": "code",
   "execution_count": 51,
   "id": "b99ade6f-f0a0-4b3e-a75f-bad883863dfe",
   "metadata": {},
   "outputs": [],
   "source": [
    "import math\n",
    "import numpy as np\n",
    "import pandas\n",
    "import itertools\n",
    "from sklearn.metrics import precision_score\n",
    "\n",
    "\n",
    "ui_data = pandas.read_csv('../working_data/updrsi_all_q_p_s.csv')"
   ]
  },
  {
   "cell_type": "code",
   "execution_count": 68,
   "id": "f212686c-d277-42f8-8cbf-11e053639a2a",
   "metadata": {},
   "outputs": [],
   "source": [
    "def query_builder(qs, threshold):\n",
    "    output = \"\"\n",
    "    for q in qs:\n",
    "        add = f'{q} > {threshold} and '\n",
    "        output = output + add        \n",
    "    return output[:-5]\n",
    "\n",
    "def test_q_subset(source,qs, threshold, results):\n",
    "    df_tmp = source.query(query_builder(qs, threshold))\n",
    "    row,_ = df_tmp.shape\n",
    "    if row > 5:\n",
    "        y = df_tmp['SIGFALL']\n",
    "        predictions = [1.0] * len(y)\n",
    "        p = precision_score(y, predictions, zero_division=0)\n",
    "        if p > 0.49:\n",
    "            results.append((qs, p))\n",
    "\n",
    "def create_hist_data(source,qs, threshold, results):\n",
    "    df_tmp = source.query(query_builder(qs, threshold))\n",
    "    row,_ = df_tmp.shape\n",
    "    if row > 5:\n",
    "        y = df_tmp['SIGFALL']\n",
    "        predictions = [1.0] * len(y)\n",
    "        p = precision_score(y, predictions, zero_division=0)\n",
    "        results.append(p)"
   ]
  },
  {
   "cell_type": "code",
   "execution_count": 53,
   "id": "1afcdbf0-329e-4b0f-b62f-d591855d8d69",
   "metadata": {},
   "outputs": [],
   "source": [
    "ui_all_qs = {'D_NP1COG', 'D_NP1HALL', 'D_NP1DPRS', 'D_NP1ANXS', 'D_NP1APAT','D_NP1DDS', 'D_NP1SLPN','D_NP1SLPD','D_NP1PAIN','D_NP1URIN','D_NP1CNST','D_NP1LTHD','D_NP1FATG','D_NP1TOT'}\n",
    "\n",
    "ui_sets = []\n",
    "\n",
    "for x in range(1,len(ui_all_qs)):\n",
    "    ui_sets.append(list(itertools.combinations(ui_all_qs, x)))"
   ]
  },
  {
   "cell_type": "code",
   "execution_count": 54,
   "id": "0934253a-e48d-4b73-a886-665041771076",
   "metadata": {},
   "outputs": [
    {
     "name": "stdout",
     "output_type": "stream",
     "text": [
      "16382\n"
     ]
    },
    {
     "data": {
      "text/plain": [
       "('D_NP1PAIN',)"
      ]
     },
     "execution_count": 54,
     "metadata": {},
     "output_type": "execute_result"
    }
   ],
   "source": [
    "ui_flatten = [element for sublist in ui_sets for element in sublist]\n",
    "print(len(ui_flatten))\n",
    "ui_flatten[0]"
   ]
  },
  {
   "cell_type": "code",
   "execution_count": 69,
   "id": "8d97316f-9be3-4869-9a91-906ed851065d",
   "metadata": {},
   "outputs": [],
   "source": [
    "# Try ALL the combinations:\n",
    "\n",
    "ui_0_results = []\n",
    "ui_0_hist = []\n",
    "for qs in ui_flatten:\n",
    "    test_q_subset(ui_data, qs,0, ui_0_results)\n",
    "    #create_hist_data(ui_data, qs, 0, ui_0_hist)\n",
    "    "
   ]
  },
  {
   "cell_type": "code",
   "execution_count": 56,
   "id": "2500de01-86a5-46cd-baca-d1339563fe22",
   "metadata": {},
   "outputs": [
    {
     "data": {
      "text/plain": [
       "[(('D_NP1DDS', 'D_NP1CNST'), 0.5),\n",
       " (('D_NP1TOT', 'D_NP1DDS', 'D_NP1APAT'), 0.5),\n",
       " (('D_NP1FATG', 'D_NP1DDS', 'D_NP1SLPN'), 0.5714285714285714),\n",
       " (('D_NP1DDS', 'D_NP1CNST', 'D_NP1SLPN'), 0.5),\n",
       " (('D_NP1PAIN', 'D_NP1DPRS', 'D_NP1CNST', 'D_NP1URIN'), 0.5),\n",
       " (('D_NP1ANXS', 'D_NP1FATG', 'D_NP1COG', 'D_NP1LTHD'), 0.5),\n",
       " (('D_NP1TOT', 'D_NP1FATG', 'D_NP1DDS', 'D_NP1SLPN'), 0.5),\n",
       " (('D_NP1TOT', 'D_NP1FATG', 'D_NP1COG', 'D_NP1LTHD'), 0.47058823529411764),\n",
       " (('D_NP1TOT', 'D_NP1DPRS', 'D_NP1CNST', 'D_NP1URIN'), 0.45454545454545453),\n",
       " (('D_NP1FATG', 'D_NP1COG', 'D_NP1LTHD', 'D_NP1APAT'), 0.5),\n",
       " (('D_NP1PAIN', 'D_NP1TOT', 'D_NP1DPRS', 'D_NP1CNST', 'D_NP1URIN'), 0.5),\n",
       " (('D_NP1ANXS', 'D_NP1TOT', 'D_NP1FATG', 'D_NP1COG', 'D_NP1LTHD'), 0.5),\n",
       " (('D_NP1TOT', 'D_NP1FATG', 'D_NP1COG', 'D_NP1LTHD', 'D_NP1APAT'), 0.5)]"
      ]
     },
     "execution_count": 56,
     "metadata": {},
     "output_type": "execute_result"
    }
   ],
   "source": [
    "ui_0_results"
   ]
  },
  {
   "cell_type": "code",
   "execution_count": 70,
   "id": "a2f78b52-d07b-423b-a7d2-c3f7dec0e4c9",
   "metadata": {},
   "outputs": [
    {
     "data": {
      "text/plain": [
       "array([['D_NP1ANXS', '2'],\n",
       "       ['D_NP1APAT', '3'],\n",
       "       ['D_NP1CNST', '4'],\n",
       "       ['D_NP1COG', '4'],\n",
       "       ['D_NP1DDS', '5'],\n",
       "       ['D_NP1DPRS', '2'],\n",
       "       ['D_NP1FATG', '6'],\n",
       "       ['D_NP1LTHD', '4'],\n",
       "       ['D_NP1PAIN', '2'],\n",
       "       ['D_NP1SLPN', '3'],\n",
       "       ['D_NP1TOT', '5'],\n",
       "       ['D_NP1URIN', '2']], dtype='<U21')"
      ]
     },
     "execution_count": 70,
     "metadata": {},
     "output_type": "execute_result"
    }
   ],
   "source": [
    "a,b = ui_0_results[0]\n",
    "list(a)\n",
    "z = []\n",
    "\n",
    "for x in ui_0_results:\n",
    "    a,_ = x\n",
    "    z.append(list(a))\n",
    "    \n",
    "flatten_list = [element for sublist in z for element in sublist]\n",
    "flatten_list\n",
    "\n",
    "(unique, counts) = np.unique(flatten_list, return_counts=True)\n",
    "frequencies = np.asarray((unique, counts)).T\n",
    "frequencies"
   ]
  },
  {
   "cell_type": "code",
   "execution_count": 57,
   "id": "00ca7a85-de99-4074-bf6e-aa0b851a6314",
   "metadata": {},
   "outputs": [],
   "source": [
    "import matplotlib.pyplot as plt\n",
    "\n",
    "# log_ui_hist = [np.log(ui_0_hist)]\n",
    "# plt.hist(log_ui_hist, histtype='stepfilled')\n",
    "# plt.show() "
   ]
  },
  {
   "cell_type": "code",
   "execution_count": 58,
   "id": "c60bc59a-e7b2-4524-b502-f982ae773d7c",
   "metadata": {},
   "outputs": [
    {
     "data": {
      "text/plain": [
       "[]"
      ]
     },
     "execution_count": 58,
     "metadata": {},
     "output_type": "execute_result"
    }
   ],
   "source": [
    "ui_1_results = []\n",
    "ui_1_hist = []\n",
    "for qs in ui_flatten:\n",
    "    test_q_subset(ui_data, qs,1, ui_1_results)\n",
    "    # create_hist_data(ui_data, qs, 0, ui_1_hist)\n",
    "    \n",
    "# plt.hist(ui_1_hist)\n",
    "# plt.show()\n",
    "ui_1_results"
   ]
  },
  {
   "cell_type": "code",
   "execution_count": 38,
   "id": "bb2c928a-f4df-43f6-b57f-a27ed938955c",
   "metadata": {},
   "outputs": [
    {
     "data": {
      "image/png": "[encoded data removed]",
      "text/plain": [
       "<Figure size 432x288 with 1 Axes>"
      ]
     },
     "metadata": {
      "needs_background": "light"
     },
     "output_type": "display_data"
    }
   ],
   "source": [
    "ui_2_results = []\n",
    "ui_2_hist = []\n",
    "for qs in ui_flatten:\n",
    "    #test_q_subset(ui_data, qs,2, ui_2_results)\n",
    "    create_hist_data(ui_data, qs, 0, ui_1_hist)\n",
    "\n",
    "plt.hist(ui_2_hist)\n",
    "plt.show()"
   ]
  },
  {
   "cell_type": "code",
   "execution_count": 29,
   "id": "c88ff07d-9aa9-4493-ae02-ce3d7aa9de57",
   "metadata": {},
   "outputs": [
    {
     "data": {
      "text/plain": [
       "[]"
      ]
     },
     "execution_count": 29,
     "metadata": {},
     "output_type": "execute_result"
    }
   ],
   "source": [
    "ui_3_results = []\n",
    "for qs in ui_flatten:\n",
    "    test_q_subset(ui_data, qs,3, ui_3_results)\n",
    "    \n",
    "ui_3_results"
   ]
  },
  {
   "cell_type": "code",
   "execution_count": null,
   "id": "43151183-7c82-4dc9-9254-03b27d2a5255",
   "metadata": {},
   "outputs": [],
   "source": [
    "# Box plot maybe ????"
   ]
  }
 ],
 "metadata": {
  "kernelspec": {
   "display_name": "Python 3 (ipykernel)",
   "language": "python",
   "name": "python3"
  },
  "language_info": {
   "codemirror_mode": {
    "name": "ipython",
    "version": 3
   },
   "file_extension": ".py",
   "mimetype": "text/x-python",
   "name": "python",
   "nbconvert_exporter": "python",
   "pygments_lexer": "ipython3",
   "version": "3.8.13"
  }
 },
 "nbformat": 4,
 "nbformat_minor": 5
}
