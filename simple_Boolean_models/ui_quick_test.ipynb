{
 "cells": [
  {
   "cell_type": "code",
   "execution_count": 21,
   "id": "b99ade6f-f0a0-4b3e-a75f-bad883863dfe",
   "metadata": {},
   "outputs": [],
   "source": [
    "import math\n",
    "import numpy as np\n",
    "import pandas\n",
    "import itertools\n",
    "from sklearn.metrics import precision_score\n",
    "\n",
    "\n",
    "ui_data = pandas.read_csv('../working_data/updrsi_all_q_p_s.csv')"
   ]
  },
  {
   "cell_type": "code",
   "execution_count": 22,
   "id": "f212686c-d277-42f8-8cbf-11e053639a2a",
   "metadata": {},
   "outputs": [],
   "source": [
    "def query_builder(qs, threshold):\n",
    "    output = \"\"\n",
    "    for q in qs:\n",
    "        add = f'{q} > {threshold} and '\n",
    "        output = output + add        \n",
    "    return output[:-5]\n",
    "\n",
    "def test_q_subset(source,qs, threshold, results):\n",
    "    df_tmp = source.query(query_builder(qs, threshold))\n",
    "    row,_ = df_tmp.shape\n",
    "    if row > 5:\n",
    "        y = df_tmp['SIGFALL']\n",
    "        predictions = [1.0] * len(y)\n",
    "        p = precision_score(y, predictions, zero_division=0)\n",
    "        if p > 0.4:\n",
    "            results.append((qs, p))\n",
    "       "
   ]
  },
  {
   "cell_type": "code",
   "execution_count": 23,
   "id": "1afcdbf0-329e-4b0f-b62f-d591855d8d69",
   "metadata": {},
   "outputs": [],
   "source": [
    "ui_all_qs = {'D_NP1COG', 'D_NP1HALL', 'D_NP1DPRS', 'D_NP1ANXS', 'D_NP1APAT','D_NP1DDS', 'D_NP1SLPN','D_NP1SLPD','D_NP1PAIN','D_NP1URIN','D_NP1CNST','D_NP1LTHD','D_NP1FATG','D_NP1TOT'}\n",
    "\n",
    "ui_sets = []\n",
    "\n",
    "for x in range(1,len(ui_all_qs)):\n",
    "    ui_sets.append(list(itertools.combinations(ui_all_qs, x)))"
   ]
  },
  {
   "cell_type": "code",
   "execution_count": 24,
   "id": "0934253a-e48d-4b73-a886-665041771076",
   "metadata": {},
   "outputs": [
    {
     "name": "stdout",
     "output_type": "stream",
     "text": [
      "16382\n"
     ]
    },
    {
     "data": {
      "text/plain": [
       "('D_NP1PAIN',)"
      ]
     },
     "execution_count": 24,
     "metadata": {},
     "output_type": "execute_result"
    }
   ],
   "source": [
    "ui_flatten = [element for sublist in ui_sets for element in sublist]\n",
    "print(len(ui_flatten))\n",
    "ui_flatten[0]"
   ]
  },
  {
   "cell_type": "code",
   "execution_count": 28,
   "id": "8d97316f-9be3-4869-9a91-906ed851065d",
   "metadata": {},
   "outputs": [
    {
     "data": {
      "text/plain": [
       "[(('D_NP1FATG', 'D_NP1DDS'), 0.4444444444444444),\n",
       " (('D_NP1DDS', 'D_NP1CNST'), 0.5),\n",
       " (('D_NP1DDS', 'D_NP1APAT'), 0.42857142857142855),\n",
       " (('D_NP1HALL', 'D_NP1DPRS', 'D_NP1CNST'), 0.42857142857142855),\n",
       " (('D_NP1TOT', 'D_NP1DDS', 'D_NP1CNST'), 0.42857142857142855),\n",
       " (('D_NP1TOT', 'D_NP1DDS', 'D_NP1APAT'), 0.5),\n",
       " (('D_NP1FATG', 'D_NP1DDS', 'D_NP1SLPN'), 0.5714285714285714),\n",
       " (('D_NP1FATG', 'D_NP1COG', 'D_NP1LTHD'), 0.4444444444444444),\n",
       " (('D_NP1FATG', 'D_NP1CNST', 'D_NP1APAT'), 0.4444444444444444),\n",
       " (('D_NP1DDS', 'D_NP1CNST', 'D_NP1SLPN'), 0.5),\n",
       " (('D_NP1DPRS', 'D_NP1CNST', 'D_NP1URIN'), 0.4166666666666667),\n",
       " (('D_NP1PAIN', 'D_NP1ANXS', 'D_NP1LTHD', 'D_NP1URIN'), 0.4444444444444444),\n",
       " (('D_NP1PAIN', 'D_NP1DPRS', 'D_NP1CNST', 'D_NP1URIN'), 0.5),\n",
       " (('D_NP1ANXS', 'D_NP1FATG', 'D_NP1COG', 'D_NP1LTHD'), 0.5),\n",
       " (('D_NP1HALL', 'D_NP1TOT', 'D_NP1DPRS', 'D_NP1CNST'), 0.42857142857142855),\n",
       " (('D_NP1TOT', 'D_NP1FATG', 'D_NP1DDS', 'D_NP1SLPN'), 0.5),\n",
       " (('D_NP1TOT', 'D_NP1FATG', 'D_NP1COG', 'D_NP1LTHD'), 0.47058823529411764),\n",
       " (('D_NP1TOT', 'D_NP1FATG', 'D_NP1CNST', 'D_NP1APAT'), 0.4444444444444444),\n",
       " (('D_NP1TOT', 'D_NP1DPRS', 'D_NP1LTHD', 'D_NP1URIN'), 0.42857142857142855),\n",
       " (('D_NP1TOT', 'D_NP1DPRS', 'D_NP1CNST', 'D_NP1URIN'), 0.45454545454545453),\n",
       " (('D_NP1FATG', 'D_NP1COG', 'D_NP1DPRS', 'D_NP1LTHD'), 0.42857142857142855),\n",
       " (('D_NP1FATG', 'D_NP1COG', 'D_NP1LTHD', 'D_NP1APAT'), 0.5),\n",
       " (('D_NP1FATG', 'D_NP1COG', 'D_NP1CNST', 'D_NP1APAT'), 0.42857142857142855),\n",
       " (('D_NP1FATG', 'D_NP1DPRS', 'D_NP1CNST', 'D_NP1URIN'), 0.42857142857142855),\n",
       " (('D_NP1PAIN', 'D_NP1ANXS', 'D_NP1TOT', 'D_NP1LTHD', 'D_NP1URIN'),\n",
       "  0.4444444444444444),\n",
       " (('D_NP1PAIN', 'D_NP1TOT', 'D_NP1DPRS', 'D_NP1CNST', 'D_NP1URIN'), 0.5),\n",
       " (('D_NP1ANXS', 'D_NP1TOT', 'D_NP1FATG', 'D_NP1COG', 'D_NP1LTHD'), 0.5),\n",
       " (('D_NP1TOT', 'D_NP1FATG', 'D_NP1COG', 'D_NP1DPRS', 'D_NP1LTHD'),\n",
       "  0.42857142857142855),\n",
       " (('D_NP1TOT', 'D_NP1FATG', 'D_NP1COG', 'D_NP1LTHD', 'D_NP1APAT'), 0.5),\n",
       " (('D_NP1TOT', 'D_NP1FATG', 'D_NP1COG', 'D_NP1CNST', 'D_NP1APAT'),\n",
       "  0.42857142857142855),\n",
       " (('D_NP1TOT', 'D_NP1FATG', 'D_NP1DPRS', 'D_NP1CNST', 'D_NP1URIN'),\n",
       "  0.42857142857142855)]"
      ]
     },
     "execution_count": 28,
     "metadata": {},
     "output_type": "execute_result"
    }
   ],
   "source": [
    "# Try ALL the combinations:\n",
    "\n",
    "ui_0_results = []\n",
    "for qs in ui_flatten:\n",
    "    test_q_subset(ui_data, qs,0, ui_0_results)\n",
    "    \n",
    "ui_0_results"
   ]
  },
  {
   "cell_type": "code",
   "execution_count": 26,
   "id": "c60bc59a-e7b2-4524-b502-f982ae773d7c",
   "metadata": {},
   "outputs": [
    {
     "data": {
      "text/plain": [
       "[]"
      ]
     },
     "execution_count": 26,
     "metadata": {},
     "output_type": "execute_result"
    }
   ],
   "source": [
    "ui_1_results = []\n",
    "for qs in ui_flatten:\n",
    "    test_q_subset(ui_data, qs,1, ui_1_results)\n",
    "    \n",
    "ui_1_results"
   ]
  },
  {
   "cell_type": "code",
   "execution_count": 27,
   "id": "bb2c928a-f4df-43f6-b57f-a27ed938955c",
   "metadata": {},
   "outputs": [
    {
     "data": {
      "text/plain": [
       "[(('D_NP1CNST',), 0.5)]"
      ]
     },
     "execution_count": 27,
     "metadata": {},
     "output_type": "execute_result"
    }
   ],
   "source": [
    "ui_2_results = []\n",
    "for qs in ui_flatten:\n",
    "    test_q_subset(ui_data, qs,2, ui_2_results)\n",
    "    \n",
    "ui_2_results"
   ]
  },
  {
   "cell_type": "code",
   "execution_count": 29,
   "id": "c88ff07d-9aa9-4493-ae02-ce3d7aa9de57",
   "metadata": {},
   "outputs": [
    {
     "data": {
      "text/plain": [
       "[]"
      ]
     },
     "execution_count": 29,
     "metadata": {},
     "output_type": "execute_result"
    }
   ],
   "source": [
    "ui_3_results = []\n",
    "for qs in ui_flatten:\n",
    "    test_q_subset(ui_data, qs,3, ui_3_results)\n",
    "    \n",
    "ui_3_results"
   ]
  },
  {
   "cell_type": "code",
   "execution_count": null,
   "id": "43151183-7c82-4dc9-9254-03b27d2a5255",
   "metadata": {},
   "outputs": [],
   "source": [
    "# Box plot maybe ????"
   ]
  }
 ],
 "metadata": {
  "kernelspec": {
   "display_name": "Python 3 (ipykernel)",
   "language": "python",
   "name": "python3"
  },
  "language_info": {
   "codemirror_mode": {
    "name": "ipython",
    "version": 3
   },
   "file_extension": ".py",
   "mimetype": "text/x-python",
   "name": "python",
   "nbconvert_exporter": "python",
   "pygments_lexer": "ipython3",
   "version": "3.8.13"
  }
 },
 "nbformat": 4,
 "nbformat_minor": 5
}
