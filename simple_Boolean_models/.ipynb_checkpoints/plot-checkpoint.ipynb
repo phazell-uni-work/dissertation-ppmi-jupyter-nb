{
 "cells": [
  {
   "cell_type": "code",
   "execution_count": 1,
   "id": "b99ade6f-f0a0-4b3e-a75f-bad883863dfe",
   "metadata": {},
   "outputs": [],
   "source": [
    "import math\n",
    "import numpy as np\n",
    "import pandas\n",
    "import itertools\n",
    "from sklearn.metrics import precision_score, roc_auc_score\n",
    "\n",
    "\n",
    "ui_data = pandas.read_csv('../working_data/updrsi_all_q_p_s.csv')\n",
    "uii_data = pandas.read_csv('../working_data/updrsii_all_q_p_s.csv')"
   ]
  },
  {
   "cell_type": "code",
   "execution_count": 2,
   "id": "5c36036e-6540-4a79-948a-94c207fc26b1",
   "metadata": {},
   "outputs": [],
   "source": [
    "ui_all_qs = {'D_NP1COG', 'D_NP1HALL', 'D_NP1DPRS', 'D_NP1ANXS', 'D_NP1APAT','D_NP1DDS', 'D_NP1SLPN','D_NP1SLPD','D_NP1PAIN','D_NP1URIN','D_NP1CNST','D_NP1LTHD','D_NP1FATG','D_NP1TOT'}\n",
    "\n",
    "ui_sets = []\n",
    "\n",
    "for x in range(1,len(ui_all_qs)):\n",
    "    ui_sets.append(list(itertools.combinations(ui_all_qs, x)))"
   ]
  },
  {
   "cell_type": "code",
   "execution_count": 3,
   "id": "ed93f282-35f4-4aa5-ab85-c3ed8feec862",
   "metadata": {},
   "outputs": [],
   "source": [
    "uii_all_qs = {'D_NP2SPCH', 'D_NP2SALV', 'D_NP2SWAL', 'D_NP2EAT',\n",
    "       'D_NP2DRES', 'D_NP2HYGN', 'D_NP2HWRT', 'D_NP2HOBB', 'D_NP2TURN',\n",
    "       'D_NP2TRMR', 'D_NP2RISE', 'D_NP2WALK', 'D_NP2FREZ', 'D_NP2PTOT'}\n",
    "\n",
    "uii_sets = []\n",
    "\n",
    "for x in range(1,len(uii_all_qs)):\n",
    "    uii_sets.append(list(itertools.combinations(uii_all_qs, x)))"
   ]
  },
  {
   "cell_type": "code",
   "execution_count": 4,
   "id": "f212686c-d277-42f8-8cbf-11e053639a2a",
   "metadata": {},
   "outputs": [],
   "source": [
    "def query_builder(qs, threshold):\n",
    "    output = \"\"\n",
    "    for q in qs:\n",
    "        add = f'{q} > {threshold} and '\n",
    "        output = output + add        \n",
    "    return output[:-5]\n",
    "\n",
    "def anti_query_builder(qs,threshold):\n",
    "    output = \"\"\n",
    "    for q in qs:\n",
    "        add = f'{q} <= {threshold} and '\n",
    "        output = output + add        \n",
    "    return output[:-5]\n",
    "\n",
    "def test_q_subset(source, qs, threshold, results):\n",
    "    df_positive = source.query(query_builder(qs, threshold))\n",
    "    df_negative = source.query(anti_query_builder(qs,threshold))\n",
    "    row,_ = df_positive.shape\n",
    "    if row > 5:\n",
    "        y1 = df_positive['SIGFALL'].to_list()\n",
    "        y2 = df_negative['SIGFALL'].to_list()\n",
    "        y = y1 + y2\n",
    "        predictions1 = [1.0] * len(y1)\n",
    "        predictions2 = [0.0] * len(y2)\n",
    "        predictions = predictions1 + predictions2\n",
    "        p = precision_score(y, predictions, zero_division=0)\n",
    "        roc = roc_auc_score(y, predictions)\n",
    "        if p > 0.49:\n",
    "            results.append((qs,{'roc-auc':roc,'precision':p}))\n",
    "        else: \n",
    "            if roc > 0.6:\n",
    "                results.append((qs,{'roc-auc':roc,'precision':p}))\n",
    "\n",
    "            \n",
    "# def create_hist_data(source,qs, threshold, results):\n",
    "#     df_tmp = source.query(query_builder(qs, threshold))\n",
    "#     row,_ = df_tmp.shape\n",
    "#     if row > 5:\n",
    "#         y = df_tmp['SIGFALL']\n",
    "#         predictions = [1.0] * len(y)\n",
    "#         p = precision_score(y, predictions, zero_division=0)\n",
    "#         results.append(p)"
   ]
  },
  {
   "cell_type": "code",
   "execution_count": 5,
   "id": "0934253a-e48d-4b73-a886-665041771076",
   "metadata": {},
   "outputs": [],
   "source": [
    "ui_flatten = [element for sublist in ui_sets for element in sublist]\n",
    "uii_flatten = [element for sublist in uii_sets for element in sublist]"
   ]
  },
  {
   "cell_type": "code",
   "execution_count": 6,
   "id": "8d97316f-9be3-4869-9a91-906ed851065d",
   "metadata": {},
   "outputs": [],
   "source": [
    "# Try ALL the combinations:\n",
    "\n",
    "ui_0_results = []\n",
    "for qs in ui_flatten:\n",
    "    test_q_subset(ui_data, qs,0, ui_0_results)\n",
    "    "
   ]
  },
  {
   "cell_type": "code",
   "execution_count": 7,
   "id": "2500de01-86a5-46cd-baca-d1339563fe22",
   "metadata": {},
   "outputs": [],
   "source": [
    "uii_0_results = []\n",
    "for qs in uii_flatten:\n",
    "    test_q_subset(uii_data, qs,0, uii_0_results)"
   ]
  },
  {
   "cell_type": "code",
   "execution_count": 9,
   "id": "00ca7a85-de99-4074-bf6e-aa0b851a6314",
   "metadata": {},
   "outputs": [
    {
     "data": {
      "image/png": "[encoded data removed]",
      "text/plain": [
       "<Figure size 432x288 with 1 Axes>"
      ]
     },
     "metadata": {
      "needs_background": "light"
     },
     "output_type": "display_data"
    }
   ],
   "source": [
    "import matplotlib.pyplot as plt\n",
    "import matplotlib.patches as mpatches\n",
    "\n",
    "\n",
    "fig = plt.figure()\n",
    "ax = fig.add_subplot(111)\n",
    "\n",
    "x = [a[1]['roc-auc'] for a in ui_0_results]\n",
    "y = [a[1]['precision'] for a in ui_0_results]\n",
    "ax.scatter(x, y, c='blue', alpha=0.5)\n",
    "\n",
    "x = [a[1]['roc-auc'] for a in uii_0_results]\n",
    "y = [a[1]['precision'] for a in uii_0_results]\n",
    "ax.scatter(x, y, c='#17d11d', alpha=0.5)\n",
    "\n",
    "classes = ['Ui models','Uii models']\n",
    "class_colours = ['blue','#17d11d']\n",
    "recs = []\n",
    "for i in range(0,len(class_colours)):\n",
    "    recs.append(mpatches.Rectangle((0,0),1,1,fc=class_colours[i]))\n",
    "ax.legend(recs,classes,loc=1)\n",
    "\n",
    "ax.set_xlim([0.4,0.8])\n",
    "ax.set_ylim([0,0.8])\n",
    "plt.ylabel(\"Precision score\")\n",
    "plt.xlabel(\"ROC-AUC score\")\n",
    "\n",
    "\n",
    "plt.suptitle(\"Top performing Boolean models\")\n",
    "plt.show()"
   ]
  },
  {
   "cell_type": "code",
   "execution_count": null,
   "id": "93860aa7-c99c-408b-a699-0eaa9682044c",
   "metadata": {},
   "outputs": [],
   "source": []
  }
 ],
 "metadata": {
  "kernelspec": {
   "display_name": "Python 3 (ipykernel)",
   "language": "python",
   "name": "python3"
  },
  "language_info": {
   "codemirror_mode": {
    "name": "ipython",
    "version": 3
   },
   "file_extension": ".py",
   "mimetype": "text/x-python",
   "name": "python",
   "nbconvert_exporter": "python",
   "pygments_lexer": "ipython3",
   "version": "3.8.13"
  }
 },
 "nbformat": 4,
 "nbformat_minor": 5
}
