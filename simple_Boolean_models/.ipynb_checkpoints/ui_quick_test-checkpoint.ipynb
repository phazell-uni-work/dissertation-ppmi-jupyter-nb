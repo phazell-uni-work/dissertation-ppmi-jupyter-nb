{
 "cells": [
  {
   "cell_type": "code",
   "execution_count": 24,
   "id": "b99ade6f-f0a0-4b3e-a75f-bad883863dfe",
   "metadata": {},
   "outputs": [],
   "source": [
    "import math\n",
    "import numpy as np\n",
    "import pandas\n",
    "import itertools\n",
    "from sklearn.metrics import precision_score, roc_auc_score\n",
    "\n",
    "\n",
    "ui_data = pandas.read_csv('../working_data/updrsi_all_q_p_s.csv')"
   ]
  },
  {
   "cell_type": "code",
   "execution_count": 25,
   "id": "5c36036e-6540-4a79-948a-94c207fc26b1",
   "metadata": {},
   "outputs": [],
   "source": [
    "ui_all_qs = {'D_NP1COG', 'D_NP1HALL', 'D_NP1DPRS', 'D_NP1ANXS', 'D_NP1APAT','D_NP1DDS', 'D_NP1SLPN','D_NP1SLPD','D_NP1PAIN','D_NP1URIN','D_NP1CNST','D_NP1LTHD','D_NP1FATG','D_NP1TOT'}\n",
    "\n",
    "ui_sets = []\n",
    "\n",
    "for x in range(1,len(ui_all_qs)):\n",
    "    ui_sets.append(list(itertools.combinations(ui_all_qs, x)))"
   ]
  },
  {
   "cell_type": "code",
   "execution_count": 49,
   "id": "f212686c-d277-42f8-8cbf-11e053639a2a",
   "metadata": {},
   "outputs": [],
   "source": [
    "def query_builder(qs, threshold):\n",
    "    output = \"\"\n",
    "    for q in qs:\n",
    "        add = f'{q} > {threshold} and '\n",
    "        output = output + add        \n",
    "    return output[:-5]\n",
    "\n",
    "def anti_query_builder(qs,threshold):\n",
    "    output = \"\"\n",
    "    for q in qs:\n",
    "        add = f'{q} <= {threshold} and '\n",
    "        output = output + add        \n",
    "    return output[:-5]\n",
    "\n",
    "def test_q_subset(source, qs, threshold, results):\n",
    "    df_positive = source.query(query_builder(qs, threshold))\n",
    "    df_negative = source.query(anti_query_builder(qs,threshold))\n",
    "    row,_ = df_positive.shape\n",
    "    if row > 5:\n",
    "        y1 = df_positive['SIGFALL'].to_list()\n",
    "        y2 = df_negative['SIGFALL'].to_list()\n",
    "        y = y1 + y2\n",
    "        predictions1 = [1.0] * len(y1)\n",
    "        predictions2 = [0.0] * len(y2)\n",
    "        predictions = predictions1 + predictions2\n",
    "        p = precision_score(y, predictions, zero_division=0)\n",
    "        roc = roc_auc_score(y, predictions)\n",
    "        if p > 0.49:\n",
    "            results.append((qs,{'roc-auc':roc,'precision':p}))\n",
    "        else: \n",
    "            if roc > 0.6:\n",
    "                results.append((qs,{'roc-auc':roc,'precision':p}))\n",
    "\n",
    "            \n",
    "# def create_hist_data(source,qs, threshold, results):\n",
    "#     df_tmp = source.query(query_builder(qs, threshold))\n",
    "#     row,_ = df_tmp.shape\n",
    "#     if row > 5:\n",
    "#         y = df_tmp['SIGFALL']\n",
    "#         predictions = [1.0] * len(y)\n",
    "#         p = precision_score(y, predictions, zero_division=0)\n",
    "#         results.append(p)"
   ]
  },
  {
   "cell_type": "code",
   "execution_count": 27,
   "id": "0934253a-e48d-4b73-a886-665041771076",
   "metadata": {},
   "outputs": [
    {
     "name": "stdout",
     "output_type": "stream",
     "text": [
      "16382\n"
     ]
    },
    {
     "data": {
      "text/plain": [
       "('D_NP1PAIN',)"
      ]
     },
     "execution_count": 27,
     "metadata": {},
     "output_type": "execute_result"
    }
   ],
   "source": [
    "ui_flatten = [element for sublist in ui_sets for element in sublist]\n",
    "print(len(ui_flatten))\n",
    "ui_flatten[0]"
   ]
  },
  {
   "cell_type": "code",
   "execution_count": 50,
   "id": "8d97316f-9be3-4869-9a91-906ed851065d",
   "metadata": {},
   "outputs": [],
   "source": [
    "# Try ALL the combinations:\n",
    "\n",
    "ui_0_results = []\n",
    "for qs in ui_flatten:\n",
    "    test_q_subset(ui_data, qs,0, ui_0_results)\n",
    "    "
   ]
  },
  {
   "cell_type": "code",
   "execution_count": 51,
   "id": "2500de01-86a5-46cd-baca-d1339563fe22",
   "metadata": {},
   "outputs": [
    {
     "data": {
      "text/plain": [
       "[(('D_NP1DDS', 'D_NP1CNST'),\n",
       "  {'roc-auc': 0.5267612147371666, 'precision': 0.5}),\n",
       " (('D_NP1DDS', 'D_NP1FATG', 'D_NP1SLPN'),\n",
       "  {'roc-auc': 0.5415584415584416, 'precision': 0.5714285714285714}),\n",
       " (('D_NP1DDS', 'D_NP1CNST', 'D_NP1SLPN'),\n",
       "  {'roc-auc': 0.5260835509138381, 'precision': 0.5}),\n",
       " (('D_NP1DDS', 'D_NP1APAT', 'D_NP1TOT'),\n",
       "  {'roc-auc': 0.5350877192982456, 'precision': 0.5}),\n",
       " (('D_NP1LTHD', 'D_NP1FATG', 'D_NP1TOT'),\n",
       "  {'roc-auc': 0.6129662391272299, 'precision': 0.325}),\n",
       " (('D_NP1FATG', 'D_NP1COG', 'D_NP1TOT'),\n",
       "  {'roc-auc': 0.6020510613884108, 'precision': 0.2708333333333333}),\n",
       " (('D_NP1PAIN', 'D_NP1CNST', 'D_NP1DPRS', 'D_NP1URIN'),\n",
       "  {'roc-auc': 0.5355736531233221, 'precision': 0.5}),\n",
       " (('D_NP1DDS', 'D_NP1FATG', 'D_NP1SLPN', 'D_NP1TOT'),\n",
       "  {'roc-auc': 0.540154192097655, 'precision': 0.5}),\n",
       " (('D_NP1LTHD', 'D_NP1FATG', 'D_NP1APAT', 'D_NP1COG'),\n",
       "  {'roc-auc': 0.5396533613445379, 'precision': 0.5}),\n",
       " (('D_NP1LTHD', 'D_NP1FATG', 'D_NP1COG', 'D_NP1TOT'),\n",
       "  {'roc-auc': 0.6090989399293286, 'precision': 0.47058823529411764}),\n",
       " (('D_NP1LTHD', 'D_NP1FATG', 'D_NP1COG', 'D_NP1ANXS'),\n",
       "  {'roc-auc': 0.5380184331797235, 'precision': 0.5}),\n",
       " (('D_NP1PAIN', 'D_NP1CNST', 'D_NP1DPRS', 'D_NP1URIN', 'D_NP1TOT'),\n",
       "  {'roc-auc': 0.5493055555555556, 'precision': 0.5}),\n",
       " (('D_NP1LTHD', 'D_NP1FATG', 'D_NP1APAT', 'D_NP1COG', 'D_NP1TOT'),\n",
       "  {'roc-auc': 0.5568396226415094, 'precision': 0.5}),\n",
       " (('D_NP1LTHD', 'D_NP1FATG', 'D_NP1COG', 'D_NP1TOT', 'D_NP1ANXS'),\n",
       "  {'roc-auc': 0.5563524590163935, 'precision': 0.5})]"
      ]
     },
     "execution_count": 51,
     "metadata": {},
     "output_type": "execute_result"
    }
   ],
   "source": [
    "ui_0_results"
   ]
  },
  {
   "cell_type": "code",
   "execution_count": 53,
   "id": "a2f78b52-d07b-423b-a7d2-c3f7dec0e4c9",
   "metadata": {},
   "outputs": [
    {
     "name": "stdout",
     "output_type": "stream",
     "text": [
      "14\n"
     ]
    },
    {
     "data": {
      "text/plain": [
       "array([['D_NP1ANXS', '2'],\n",
       "       ['D_NP1APAT', '3'],\n",
       "       ['D_NP1CNST', '4'],\n",
       "       ['D_NP1COG', '6'],\n",
       "       ['D_NP1DDS', '5'],\n",
       "       ['D_NP1DPRS', '2'],\n",
       "       ['D_NP1FATG', '9'],\n",
       "       ['D_NP1LTHD', '6'],\n",
       "       ['D_NP1PAIN', '2'],\n",
       "       ['D_NP1SLPN', '3'],\n",
       "       ['D_NP1TOT', '8'],\n",
       "       ['D_NP1URIN', '2']], dtype='<U21')"
      ]
     },
     "execution_count": 53,
     "metadata": {},
     "output_type": "execute_result"
    }
   ],
   "source": [
    "z = []\n",
    "\n",
    "for x in ui_0_results:\n",
    "    a,_ = x\n",
    "    z.append(list(a))\n",
    "    \n",
    "flatten_list = [element for sublist in z for element in sublist]\n",
    "flatten_list\n",
    "\n",
    "(unique, counts) = np.unique(flatten_list, return_counts=True)\n",
    "frequencies = np.asarray((unique, counts)).T\n",
    "print(len(z))\n",
    "frequencies"
   ]
  },
  {
   "cell_type": "code",
   "execution_count": 54,
   "id": "2e02cc07-17ae-4c53-bd09-a27dd5957236",
   "metadata": {},
   "outputs": [
    {
     "data": {
      "text/plain": [
       "[0.5267612147371666,\n",
       " 0.5415584415584416,\n",
       " 0.5260835509138381,\n",
       " 0.5350877192982456,\n",
       " 0.6129662391272299,\n",
       " 0.6020510613884108,\n",
       " 0.5355736531233221,\n",
       " 0.540154192097655,\n",
       " 0.5396533613445379,\n",
       " 0.6090989399293286,\n",
       " 0.5380184331797235,\n",
       " 0.5493055555555556,\n",
       " 0.5568396226415094,\n",
       " 0.5563524590163935]"
      ]
     },
     "execution_count": 54,
     "metadata": {},
     "output_type": "execute_result"
    }
   ],
   "source": [
    "[x[1]['roc-auc'] for x in ui_0_results]"
   ]
  },
  {
   "cell_type": "code",
   "execution_count": 55,
   "id": "00ca7a85-de99-4074-bf6e-aa0b851a6314",
   "metadata": {},
   "outputs": [
    {
     "data": {
      "image/png": "[encoded data removed]",
      "text/plain": [
       "<Figure size 432x288 with 1 Axes>"
      ]
     },
     "metadata": {
      "needs_background": "light"
     },
     "output_type": "display_data"
    }
   ],
   "source": [
    "import matplotlib.pyplot as plt\n",
    "\n",
    "\n",
    "fig = plt.figure()\n",
    "ax = fig.add_subplot(111)\n",
    "\n",
    "x = [a[1]['roc-auc'] for a in ui_0_results]\n",
    "y = [a[1]['precision'] for a in ui_0_results]\n",
    "\n",
    "ax.scatter(x, y, c='blue', alpha=0.5)\n",
    "ax.set_xlim([0.4,0.8])\n",
    "ax.set_ylim([0,0.8])\n",
    "plt.ylabel(\"Precision score\")\n",
    "plt.xlabel(\"ROC-AUC score\")\n",
    "\n",
    "\n",
    "plt.suptitle(\"Top performing Boolean models\")\n",
    "plt.show()"
   ]
  },
  {
   "cell_type": "code",
   "execution_count": 45,
   "id": "c60bc59a-e7b2-4524-b502-f982ae773d7c",
   "metadata": {},
   "outputs": [
    {
     "name": "stdout",
     "output_type": "stream",
     "text": [
      "[]\n",
      "---\n"
     ]
    },
    {
     "data": {
      "text/plain": [
       "[]"
      ]
     },
     "execution_count": 45,
     "metadata": {},
     "output_type": "execute_result"
    }
   ],
   "source": [
    "ui_1_p_results = []\n",
    "ui_1_r_results = []\n",
    "for qs in ui_flatten:\n",
    "    test_q_subset(ui_data, qs,1, ui_1_p_results,ui_1_r_results)\n",
    "    # create_hist_data(ui_data, qs, 0, ui_1_hist)\n",
    "    \n",
    "# plt.hist(ui_1_hist)\n",
    "# plt.show()\n",
    "print(ui_1_r_results)\n",
    "print('---')\n",
    "ui_1_p_results"
   ]
  },
  {
   "cell_type": "code",
   "execution_count": 46,
   "id": "bb2c928a-f4df-43f6-b57f-a27ed938955c",
   "metadata": {},
   "outputs": [
    {
     "name": "stdout",
     "output_type": "stream",
     "text": [
      "[]\n",
      "---\n"
     ]
    },
    {
     "data": {
      "text/plain": [
       "[(('D_NP1CNST',), {'roc-auc': 0.5148828887443071, 'precision': 0.5})]"
      ]
     },
     "execution_count": 46,
     "metadata": {},
     "output_type": "execute_result"
    }
   ],
   "source": [
    "ui_2_p_results = []\n",
    "ui_2_r_results = []\n",
    "for qs in ui_flatten:\n",
    "    test_q_subset(ui_data, qs,2, ui_2_p_results,ui_2_r_results)\n",
    "    # create_hist_data(ui_data, qs, 0, ui_1_hist)\n",
    "    \n",
    "# plt.hist(ui_1_hist)\n",
    "# plt.show()\n",
    "print(ui_2_r_results)\n",
    "print('---')\n",
    "ui_2_p_results"
   ]
  },
  {
   "cell_type": "code",
   "execution_count": 47,
   "id": "c88ff07d-9aa9-4493-ae02-ce3d7aa9de57",
   "metadata": {},
   "outputs": [
    {
     "name": "stdout",
     "output_type": "stream",
     "text": [
      "[]\n",
      "---\n"
     ]
    },
    {
     "data": {
      "text/plain": [
       "[]"
      ]
     },
     "execution_count": 47,
     "metadata": {},
     "output_type": "execute_result"
    }
   ],
   "source": [
    "ui_3_p_results = []\n",
    "ui_3_r_results = []\n",
    "for qs in ui_flatten:\n",
    "    test_q_subset(ui_data, qs,3, ui_3_p_results,ui_3_r_results)\n",
    "\n",
    "print(ui_3_r_results)\n",
    "print('---')\n",
    "ui_3_p_results"
   ]
  },
  {
   "cell_type": "code",
   "execution_count": null,
   "id": "43151183-7c82-4dc9-9254-03b27d2a5255",
   "metadata": {},
   "outputs": [],
   "source": [
    "# Box plot maybe ????"
   ]
  }
 ],
 "metadata": {
  "kernelspec": {
   "display_name": "Python 3 (ipykernel)",
   "language": "python",
   "name": "python3"
  },
  "language_info": {
   "codemirror_mode": {
    "name": "ipython",
    "version": 3
   },
   "file_extension": ".py",
   "mimetype": "text/x-python",
   "name": "python",
   "nbconvert_exporter": "python",
   "pygments_lexer": "ipython3",
   "version": "3.8.13"
  }
 },
 "nbformat": 4,
 "nbformat_minor": 5
}
