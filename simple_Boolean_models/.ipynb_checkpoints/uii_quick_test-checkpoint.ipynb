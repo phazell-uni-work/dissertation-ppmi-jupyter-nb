{
 "cells": [
  {
   "cell_type": "code",
   "execution_count": 30,
   "id": "b99ade6f-f0a0-4b3e-a75f-bad883863dfe",
   "metadata": {},
   "outputs": [],
   "source": [
    "import math\n",
    "import numpy as np\n",
    "import pandas\n",
    "import itertools\n",
    "from sklearn.metrics import precision_score\n",
    "\n",
    "\n",
    "uii_data = pandas.read_csv('../working_data/updrsii_all_q_p_s.csv')"
   ]
  },
  {
   "cell_type": "code",
   "execution_count": 31,
   "id": "710e0451-9a18-4b02-a2d5-6b7191e9c55e",
   "metadata": {},
   "outputs": [],
   "source": [
    "def query_builder(qs, threshold):\n",
    "    output = \"\"\n",
    "    for q in qs:\n",
    "        add = f'{q} > {threshold} and '\n",
    "        output = output + add        \n",
    "    return output[:-5]\n",
    "\n",
    "def test_q_subset(source,qs, threshold, results):\n",
    "    df_tmp = source.query(query_builder(qs, threshold))\n",
    "    row,_ = df_tmp.shape\n",
    "    if row > 5:\n",
    "        y = df_tmp['SIGFALL']\n",
    "        predictions = [1.0] * len(y)\n",
    "        p = precision_score(y, predictions, zero_division=0)\n",
    "        if p > 0.4:\n",
    "            results.append((qs, p))"
   ]
  },
  {
   "cell_type": "code",
   "execution_count": 32,
   "id": "1afcdbf0-329e-4b0f-b62f-d591855d8d69",
   "metadata": {},
   "outputs": [],
   "source": [
    "# Perebor it:\n",
    "\n",
    "uii_all_qs = {'D_NP2SPCH', 'D_NP2SALV', 'D_NP2SWAL', 'D_NP2EAT',\n",
    "       'D_NP2DRES', 'D_NP2HYGN', 'D_NP2HWRT', 'D_NP2HOBB', 'D_NP2TURN',\n",
    "       'D_NP2TRMR', 'D_NP2RISE', 'D_NP2WALK', 'D_NP2FREZ', 'D_NP2PTOT'}\n",
    "\n",
    "uii_sets = []\n",
    "\n",
    "for x in range(1,len(uii_all_qs)):\n",
    "    uii_sets.append(list(itertools.combinations(uii_all_qs, x)))"
   ]
  },
  {
   "cell_type": "code",
   "execution_count": 33,
   "id": "0934253a-e48d-4b73-a886-665041771076",
   "metadata": {},
   "outputs": [
    {
     "data": {
      "text/plain": [
       "16382"
      ]
     },
     "execution_count": 33,
     "metadata": {},
     "output_type": "execute_result"
    }
   ],
   "source": [
    "uii_flatten = [element for sublist in uii_sets for element in sublist]\n",
    "uii_flatten[0]\n",
    "len(uii_flatten)"
   ]
  },
  {
   "cell_type": "code",
   "execution_count": 34,
   "id": "8d97316f-9be3-4869-9a91-906ed851065d",
   "metadata": {},
   "outputs": [
    {
     "data": {
      "text/plain": [
       "[(('D_NP2TRMR', 'D_NP2HOBB', 'D_NP2FREZ'), 0.42857142857142855),\n",
       " (('D_NP2HWRT', 'D_NP2SWAL', 'D_NP2FREZ'), 0.5),\n",
       " (('D_NP2HWRT', 'D_NP2FREZ', 'D_NP2EAT'), 0.5),\n",
       " (('D_NP2DRES', 'D_NP2FREZ', 'D_NP2EAT'), 0.45454545454545453),\n",
       " (('D_NP2SWAL', 'D_NP2WALK', 'D_NP2FREZ'), 0.42857142857142855),\n",
       " (('D_NP2SWAL', 'D_NP2HOBB', 'D_NP2FREZ'), 0.4444444444444444),\n",
       " (('D_NP2RISE', 'D_NP2FREZ', 'D_NP2EAT'), 0.4444444444444444),\n",
       " (('D_NP2TRMR', 'D_NP2RISE', 'D_NP2WALK', 'D_NP2FREZ'), 0.5),\n",
       " (('D_NP2TRMR', 'D_NP2PTOT', 'D_NP2HOBB', 'D_NP2FREZ'), 0.42857142857142855),\n",
       " (('D_NP2HWRT', 'D_NP2SWAL', 'D_NP2PTOT', 'D_NP2FREZ'), 0.4444444444444444),\n",
       " (('D_NP2HWRT', 'D_NP2SWAL', 'D_NP2HOBB', 'D_NP2FREZ'), 0.6666666666666666),\n",
       " (('D_NP2HWRT', 'D_NP2PTOT', 'D_NP2FREZ', 'D_NP2EAT'), 0.5),\n",
       " (('D_NP2DRES', 'D_NP2SWAL', 'D_NP2RISE', 'D_NP2EAT'), 0.42857142857142855),\n",
       " (('D_NP2DRES', 'D_NP2SWAL', 'D_NP2FREZ', 'D_NP2EAT'), 0.42857142857142855),\n",
       " (('D_NP2DRES', 'D_NP2RISE', 'D_NP2FREZ', 'D_NP2EAT'), 0.42857142857142855),\n",
       " (('D_NP2DRES', 'D_NP2PTOT', 'D_NP2FREZ', 'D_NP2EAT'), 0.45454545454545453),\n",
       " (('D_NP2DRES', 'D_NP2HYGN', 'D_NP2FREZ', 'D_NP2EAT'), 0.5),\n",
       " (('D_NP2SWAL', 'D_NP2WALK', 'D_NP2PTOT', 'D_NP2FREZ'), 0.42857142857142855),\n",
       " (('D_NP2TURN', 'D_NP2SALV', 'D_NP2HOBB', 'D_NP2FREZ'), 0.5),\n",
       " (('D_NP2RISE', 'D_NP2PTOT', 'D_NP2FREZ', 'D_NP2EAT'), 0.4444444444444444),\n",
       " (('D_NP2HYGN', 'D_NP2HOBB', 'D_NP2FREZ', 'D_NP2EAT'), 0.5),\n",
       " (('D_NP2TRMR', 'D_NP2RISE', 'D_NP2WALK', 'D_NP2PTOT', 'D_NP2FREZ'), 0.5),\n",
       " (('D_NP2DRES', 'D_NP2SWAL', 'D_NP2RISE', 'D_NP2PTOT', 'D_NP2EAT'),\n",
       "  0.42857142857142855),\n",
       " (('D_NP2DRES', 'D_NP2SWAL', 'D_NP2PTOT', 'D_NP2FREZ', 'D_NP2EAT'),\n",
       "  0.42857142857142855),\n",
       " (('D_NP2DRES', 'D_NP2RISE', 'D_NP2PTOT', 'D_NP2FREZ', 'D_NP2EAT'),\n",
       "  0.42857142857142855),\n",
       " (('D_NP2DRES', 'D_NP2PTOT', 'D_NP2HYGN', 'D_NP2FREZ', 'D_NP2EAT'), 0.5),\n",
       " (('D_NP2TURN', 'D_NP2SALV', 'D_NP2PTOT', 'D_NP2HOBB', 'D_NP2FREZ'), 0.5),\n",
       " (('D_NP2RISE', 'D_NP2WALK', 'D_NP2PTOT', 'D_NP2SPCH', 'D_NP2FREZ'),\n",
       "  0.42857142857142855),\n",
       " (('D_NP2PTOT', 'D_NP2HYGN', 'D_NP2HOBB', 'D_NP2FREZ', 'D_NP2EAT'), 0.5)]"
      ]
     },
     "execution_count": 34,
     "metadata": {},
     "output_type": "execute_result"
    }
   ],
   "source": [
    "uii_0_results = []\n",
    "for qs in uii_flatten:\n",
    "    test_q_subset(uii_data, qs,0, uii_0_results)\n",
    "    \n",
    "uii_0_results"
   ]
  },
  {
   "cell_type": "code",
   "execution_count": 35,
   "id": "c60bc59a-e7b2-4524-b502-f982ae773d7c",
   "metadata": {},
   "outputs": [
    {
     "data": {
      "text/plain": [
       "[]"
      ]
     },
     "execution_count": 35,
     "metadata": {},
     "output_type": "execute_result"
    }
   ],
   "source": [
    "uii_1_results = []\n",
    "for qs in uii_flatten:\n",
    "    test_q_subset(uii_data, qs,1, uii_1_results)\n",
    "    \n",
    "uii_1_results"
   ]
  },
  {
   "cell_type": "code",
   "execution_count": 36,
   "id": "d7710272-21e9-41a9-b756-adb8f10187ae",
   "metadata": {},
   "outputs": [
    {
     "data": {
      "text/plain": [
       "[(('D_NP2FREZ',), 0.42857142857142855),\n",
       " (('D_NP2PTOT', 'D_NP2FREZ'), 0.42857142857142855)]"
      ]
     },
     "execution_count": 36,
     "metadata": {},
     "output_type": "execute_result"
    }
   ],
   "source": [
    "uii_2_results = []\n",
    "for qs in uii_flatten:\n",
    "    test_q_subset(uii_data, qs,2, uii_2_results)\n",
    "    \n",
    "uii_2_results"
   ]
  },
  {
   "cell_type": "code",
   "execution_count": 37,
   "id": "0ab26b1c-23dc-4002-9983-a9159732ce44",
   "metadata": {},
   "outputs": [
    {
     "data": {
      "text/plain": [
       "[]"
      ]
     },
     "execution_count": 37,
     "metadata": {},
     "output_type": "execute_result"
    }
   ],
   "source": [
    "uii_3_results = []\n",
    "for qs in uii_flatten:\n",
    "    test_q_subset(uii_data, qs,3, uii_3_results)\n",
    "    \n",
    "uii_3_results"
   ]
  },
  {
   "cell_type": "code",
   "execution_count": 18,
   "id": "838abc68-e39b-43d3-85c8-a1b7510fc35c",
   "metadata": {},
   "outputs": [
    {
     "name": "stdout",
     "output_type": "stream",
     "text": [
      "(644, 16)\n",
      "(82, 16)\n"
     ]
    }
   ],
   "source": [
    "print(uii_data.query(\"SIGFALL == 0\").shape)\n",
    "print(uii_data.query(\"SIGFALL > 0\").shape)"
   ]
  },
  {
   "cell_type": "code",
   "execution_count": 23,
   "id": "7133d99c-585a-4893-b02c-43ecd3b30f98",
   "metadata": {},
   "outputs": [
    {
     "data": {
      "text/plain": [
       "0.12732919254658384"
      ]
     },
     "execution_count": 23,
     "metadata": {},
     "output_type": "execute_result"
    }
   ],
   "source": [
    "82/644"
   ]
  },
  {
   "cell_type": "code",
   "execution_count": 22,
   "id": "0b3ba564-7787-437a-b841-6bcba5ebcdd5",
   "metadata": {},
   "outputs": [
    {
     "data": {
      "text/plain": [
       "0.8726708074534162"
      ]
     },
     "execution_count": 22,
     "metadata": {},
     "output_type": "execute_result"
    }
   ],
   "source": [
    "(644 - 82)/644"
   ]
  },
  {
   "cell_type": "code",
   "execution_count": 40,
   "id": "7e358a98-e429-41ac-b316-687fadd479bd",
   "metadata": {},
   "outputs": [
    {
     "data": {
      "text/html": [
       "<div>\n",
       "<style scoped>\n",
       "    .dataframe tbody tr th:only-of-type {\n",
       "        vertical-align: middle;\n",
       "    }\n",
       "\n",
       "    .dataframe tbody tr th {\n",
       "        vertical-align: top;\n",
       "    }\n",
       "\n",
       "    .dataframe thead th {\n",
       "        text-align: right;\n",
       "    }\n",
       "</style>\n",
       "<table border=\"1\" class=\"dataframe\">\n",
       "  <thead>\n",
       "    <tr style=\"text-align: right;\">\n",
       "      <th></th>\n",
       "      <th>D_NP2SPCH</th>\n",
       "      <th>D_NP2SALV</th>\n",
       "      <th>D_NP2SWAL</th>\n",
       "      <th>D_NP2EAT</th>\n",
       "      <th>D_NP2DRES</th>\n",
       "      <th>D_NP2HYGN</th>\n",
       "      <th>D_NP2HWRT</th>\n",
       "      <th>D_NP2HOBB</th>\n",
       "      <th>D_NP2TURN</th>\n",
       "      <th>D_NP2TRMR</th>\n",
       "      <th>D_NP2RISE</th>\n",
       "      <th>D_NP2WALK</th>\n",
       "      <th>D_NP2FREZ</th>\n",
       "      <th>D_NP2PTOT</th>\n",
       "      <th>PREV_SIGFALL</th>\n",
       "      <th>SIGFALL</th>\n",
       "    </tr>\n",
       "  </thead>\n",
       "  <tbody>\n",
       "    <tr>\n",
       "      <th>0</th>\n",
       "      <td>1.0</td>\n",
       "      <td>0.0</td>\n",
       "      <td>1.0</td>\n",
       "      <td>0.0</td>\n",
       "      <td>0.0</td>\n",
       "      <td>0.0</td>\n",
       "      <td>0.0</td>\n",
       "      <td>0.0</td>\n",
       "      <td>0.0</td>\n",
       "      <td>0.0</td>\n",
       "      <td>0.0</td>\n",
       "      <td>1.0</td>\n",
       "      <td>0.0</td>\n",
       "      <td>3.0</td>\n",
       "      <td>0.0</td>\n",
       "      <td>1.0</td>\n",
       "    </tr>\n",
       "    <tr>\n",
       "      <th>7</th>\n",
       "      <td>0.0</td>\n",
       "      <td>0.0</td>\n",
       "      <td>1.0</td>\n",
       "      <td>0.0</td>\n",
       "      <td>0.0</td>\n",
       "      <td>0.0</td>\n",
       "      <td>1.0</td>\n",
       "      <td>1.0</td>\n",
       "      <td>1.0</td>\n",
       "      <td>0.0</td>\n",
       "      <td>0.0</td>\n",
       "      <td>2.0</td>\n",
       "      <td>3.0</td>\n",
       "      <td>9.0</td>\n",
       "      <td>0.0</td>\n",
       "      <td>1.0</td>\n",
       "    </tr>\n",
       "    <tr>\n",
       "      <th>13</th>\n",
       "      <td>-1.0</td>\n",
       "      <td>-3.0</td>\n",
       "      <td>0.0</td>\n",
       "      <td>0.0</td>\n",
       "      <td>0.0</td>\n",
       "      <td>0.0</td>\n",
       "      <td>-1.0</td>\n",
       "      <td>-1.0</td>\n",
       "      <td>-1.0</td>\n",
       "      <td>0.0</td>\n",
       "      <td>-1.0</td>\n",
       "      <td>0.0</td>\n",
       "      <td>0.0</td>\n",
       "      <td>-8.0</td>\n",
       "      <td>0.0</td>\n",
       "      <td>1.0</td>\n",
       "    </tr>\n",
       "    <tr>\n",
       "      <th>15</th>\n",
       "      <td>2.0</td>\n",
       "      <td>2.0</td>\n",
       "      <td>1.0</td>\n",
       "      <td>0.0</td>\n",
       "      <td>0.0</td>\n",
       "      <td>0.0</td>\n",
       "      <td>2.0</td>\n",
       "      <td>1.0</td>\n",
       "      <td>2.0</td>\n",
       "      <td>2.0</td>\n",
       "      <td>0.0</td>\n",
       "      <td>0.0</td>\n",
       "      <td>3.0</td>\n",
       "      <td>15.0</td>\n",
       "      <td>0.0</td>\n",
       "      <td>1.0</td>\n",
       "    </tr>\n",
       "    <tr>\n",
       "      <th>16</th>\n",
       "      <td>0.0</td>\n",
       "      <td>0.0</td>\n",
       "      <td>1.0</td>\n",
       "      <td>-1.0</td>\n",
       "      <td>1.0</td>\n",
       "      <td>0.0</td>\n",
       "      <td>0.0</td>\n",
       "      <td>0.0</td>\n",
       "      <td>0.0</td>\n",
       "      <td>0.0</td>\n",
       "      <td>0.0</td>\n",
       "      <td>1.0</td>\n",
       "      <td>1.0</td>\n",
       "      <td>3.0</td>\n",
       "      <td>0.0</td>\n",
       "      <td>1.0</td>\n",
       "    </tr>\n",
       "  </tbody>\n",
       "</table>\n",
       "</div>"
      ],
      "text/plain": [
       "    D_NP2SPCH  D_NP2SALV  D_NP2SWAL  D_NP2EAT  D_NP2DRES  D_NP2HYGN  \\\n",
       "0         1.0        0.0        1.0       0.0        0.0        0.0   \n",
       "7         0.0        0.0        1.0       0.0        0.0        0.0   \n",
       "13       -1.0       -3.0        0.0       0.0        0.0        0.0   \n",
       "15        2.0        2.0        1.0       0.0        0.0        0.0   \n",
       "16        0.0        0.0        1.0      -1.0        1.0        0.0   \n",
       "\n",
       "    D_NP2HWRT  D_NP2HOBB  D_NP2TURN  D_NP2TRMR  D_NP2RISE  D_NP2WALK  \\\n",
       "0         0.0        0.0        0.0        0.0        0.0        1.0   \n",
       "7         1.0        1.0        1.0        0.0        0.0        2.0   \n",
       "13       -1.0       -1.0       -1.0        0.0       -1.0        0.0   \n",
       "15        2.0        1.0        2.0        2.0        0.0        0.0   \n",
       "16        0.0        0.0        0.0        0.0        0.0        1.0   \n",
       "\n",
       "    D_NP2FREZ  D_NP2PTOT  PREV_SIGFALL  SIGFALL  \n",
       "0         0.0        3.0           0.0      1.0  \n",
       "7         3.0        9.0           0.0      1.0  \n",
       "13        0.0       -8.0           0.0      1.0  \n",
       "15        3.0       15.0           0.0      1.0  \n",
       "16        1.0        3.0           0.0      1.0  "
      ]
     },
     "execution_count": 40,
     "metadata": {},
     "output_type": "execute_result"
    }
   ],
   "source": [
    "df_fallers = uii_data.query(\"SIGFALL > 0\")\n",
    "df_fallers.head()"
   ]
  },
  {
   "cell_type": "code",
   "execution_count": 42,
   "id": "fa248e40-9adf-44f2-bc4a-467f8034f0b8",
   "metadata": {},
   "outputs": [
    {
     "data": {
      "text/plain": [
       "Index(['D_NP2SPCH', 'D_NP2SALV', 'D_NP2SWAL', 'D_NP2EAT', 'D_NP2DRES',\n",
       "       'D_NP2HYGN', 'D_NP2HWRT', 'D_NP2HOBB', 'D_NP2TURN', 'D_NP2TRMR',\n",
       "       'D_NP2RISE', 'D_NP2WALK', 'D_NP2FREZ', 'D_NP2PTOT', 'PREV_SIGFALL',\n",
       "       'SIGFALL'],\n",
       "      dtype='object')"
      ]
     },
     "execution_count": 42,
     "metadata": {},
     "output_type": "execute_result"
    }
   ],
   "source": [
    "df_fallers.query(\"D_NP2SPCH != 0.0\").shape\n",
    "df_fallers.columns"
   ]
  }
 ],
 "metadata": {
  "kernelspec": {
   "display_name": "Python 3 (ipykernel)",
   "language": "python",
   "name": "python3"
  },
  "language_info": {
   "codemirror_mode": {
    "name": "ipython",
    "version": 3
   },
   "file_extension": ".py",
   "mimetype": "text/x-python",
   "name": "python",
   "nbconvert_exporter": "python",
   "pygments_lexer": "ipython3",
   "version": "3.8.13"
  }
 },
 "nbformat": 4,
 "nbformat_minor": 5
}
