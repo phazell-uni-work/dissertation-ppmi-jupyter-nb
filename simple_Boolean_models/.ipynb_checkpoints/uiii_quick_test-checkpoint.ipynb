{
 "cells": [
  {
   "cell_type": "code",
   "execution_count": 35,
   "id": "b99ade6f-f0a0-4b3e-a75f-bad883863dfe",
   "metadata": {},
   "outputs": [],
   "source": [
    "import math\n",
    "import numpy as np\n",
    "import pandas\n",
    "import itertools\n",
    "from sklearn.metrics import precision_score\n",
    "\n",
    "\n",
    "uiii_data = pandas.read_csv('../working_data/updrsiii_all_q_p_s.csv')"
   ]
  },
  {
   "cell_type": "code",
   "execution_count": 51,
   "id": "f212686c-d277-42f8-8cbf-11e053639a2a",
   "metadata": {},
   "outputs": [],
   "source": [
    "def query_builder(qs):\n",
    "    output = \"\"\n",
    "    for q in qs:\n",
    "        add = f'{q} > 0.0 and '\n",
    "        output = output + add        \n",
    "    return output[:-5]\n",
    "\n",
    "def test_q_subset(source,qs,results):\n",
    "    df_tmp = source.query(query_builder(qs))\n",
    "    row,_ = df_tmp.shape\n",
    "    if row > 5:\n",
    "        y = df_tmp['SIGFALL']\n",
    "        predictions = [1.0] * len(y)\n",
    "        p = precision_score(y, predictions, zero_division=0)\n",
    "        if p > 0.7:\n",
    "            results.append((qs, p))\n",
    "       \n",
    "    \n",
    "def specific_query_builder(qs):\n",
    "    output = \"\"\n",
    "    for q in qs:\n",
    "        add = f'{q} > 1.0 and '\n",
    "        output = output + add        \n",
    "    return output[:-5]\n",
    "\n",
    "def specific_test_q_subset(source,qs,results):\n",
    "    df_tmp = source.query(specific_query_builder(qs))\n",
    "    row,_ = df_tmp.shape\n",
    "    if row > 5:\n",
    "        y = df_tmp['SIGFALL']\n",
    "        predictions = [1.0] * len(y)\n",
    "        p = precision_score(y, predictions, zero_division=0)\n",
    "        if p > 0.1:\n",
    "            results.append((qs, p))"
   ]
  },
  {
   "cell_type": "code",
   "execution_count": 37,
   "id": "1afcdbf0-329e-4b0f-b62f-d591855d8d69",
   "metadata": {},
   "outputs": [],
   "source": [
    "# uiii_all_qs = {'D_NP3SPCH', 'D_NP3FACXP',\n",
    "#        'D_NP3RIGN', 'D_NP3RIGRU', 'D_NP3RIGLU', 'D_NP3RIGRL', 'D_NP3RIGLL',\n",
    "#        'D_NP3FTAPR', 'D_NP3FTAPL', 'D_NP3HMOVR', 'D_NP3HMOVL', 'D_NP3PRSPR',\n",
    "#        'D_NP3PRSPL', 'D_NP3TTAPR', 'D_NP3TTAPL', 'D_NP3LGAGR', 'D_NP3LGAGL',\n",
    "#        'D_NP3RISNG', 'D_NP3GAIT', 'D_NP3FRZGT', 'D_NP3PSTBL', 'D_NP3POSTR',\n",
    "#        'D_NP3BRADY', 'D_NP3PTRMR', 'D_NP3PTRML', 'D_NP3KTRMR', 'D_NP3KTRML',\n",
    "#        'D_NP3RTARU', 'D_NP3RTALU', 'D_NP3RTARL', 'D_NP3RTALL', 'D_NP3RTALJ',\n",
    "#        'D_NP3RTCON', 'D_NP3TOT', 'D_NHY'}\n",
    "\n",
    "# len(uiii_all_qs)\n",
    "\n",
    "# Total number of possible queries == 34,359,738,366 -> were gonna need MUCH bigger RAM \n",
    "\n",
    "#\n",
    "\n"
   ]
  },
  {
   "cell_type": "code",
   "execution_count": 38,
   "id": "0934253a-e48d-4b73-a886-665041771076",
   "metadata": {},
   "outputs": [
    {
     "name": "stdout",
     "output_type": "stream",
     "text": [
      "510\n"
     ]
    },
    {
     "data": {
      "text/plain": [
       "('D_NP3FRZGT',)"
      ]
     },
     "execution_count": 38,
     "metadata": {},
     "output_type": "execute_result"
    }
   ],
   "source": [
    "# Manual intervention - in order to cover off some SBM's the following q's have been chosen as they are leg functionality related\n",
    "\n",
    "uiii_all_qs = {'D_NP3FRZGT', 'D_NP3GAIT','D_NP3LGAGL', 'D_NP3LGAGR', 'D_NP3PSTBL', 'D_NP3RISNG', 'D_NP3TOT', 'D_NP3TTAPL', 'D_NP3TTAPR'}\n",
    "\n",
    "uiii_sets = []\n",
    "\n",
    "for x in range(1,len(uiii_all_qs)):\n",
    "    uiii_sets.append(list(itertools.combinations(uiii_all_qs, x)))\n",
    "uiii_flatten = [element for sublist in uiii_sets for element in sublist]\n",
    "print(len(uiii_flatten))\n",
    "uiii_flatten[0]"
   ]
  },
  {
   "cell_type": "code",
   "execution_count": 52,
   "id": "8d97316f-9be3-4869-9a91-906ed851065d",
   "metadata": {},
   "outputs": [
    {
     "data": {
      "text/plain": [
       "[(('D_NP3LGAGL', 'D_NP3LGAGR', 'D_NP3GAIT', 'D_NP3PSTBL'), 0.7142857142857143),\n",
       " (('D_NP3LGAGL', 'D_NP3GAIT', 'D_NP3PSTBL', 'D_NP3TTAPR'), 0.7142857142857143),\n",
       " (('D_NP3LGAGR', 'D_NP3GAIT', 'D_NP3PSTBL', 'D_NP3TTAPR'), 0.7142857142857143),\n",
       " (('D_NP3LGAGL', 'D_NP3LGAGR', 'D_NP3GAIT', 'D_NP3TOT', 'D_NP3PSTBL'),\n",
       "  0.7142857142857143),\n",
       " (('D_NP3LGAGL', 'D_NP3LGAGR', 'D_NP3GAIT', 'D_NP3PSTBL', 'D_NP3TTAPR'),\n",
       "  0.8333333333333334),\n",
       " (('D_NP3LGAGL', 'D_NP3GAIT', 'D_NP3TOT', 'D_NP3PSTBL', 'D_NP3TTAPR'),\n",
       "  0.7142857142857143),\n",
       " (('D_NP3LGAGR', 'D_NP3GAIT', 'D_NP3TOT', 'D_NP3PSTBL', 'D_NP3TTAPR'),\n",
       "  0.7142857142857143),\n",
       " (('D_NP3LGAGL',\n",
       "   'D_NP3LGAGR',\n",
       "   'D_NP3GAIT',\n",
       "   'D_NP3TOT',\n",
       "   'D_NP3PSTBL',\n",
       "   'D_NP3TTAPR'),\n",
       "  0.8333333333333334)]"
      ]
     },
     "execution_count": 52,
     "metadata": {},
     "output_type": "execute_result"
    }
   ],
   "source": [
    "# Try ALL the combinations:\n",
    "\n",
    "uiii_results = []\n",
    "for qs in uiii_flatten:\n",
    "    test_q_subset(uiii_data, qs, uiii_results)\n",
    "    \n",
    "uiii_results"
   ]
  },
  {
   "cell_type": "code",
   "execution_count": 43,
   "id": "19d49b30-58f6-471c-86ce-7dd26fa32496",
   "metadata": {},
   "outputs": [
    {
     "name": "stdout",
     "output_type": "stream",
     "text": [
      "count :  3\n"
     ]
    },
    {
     "data": {
      "text/plain": [
       "[(('D_NP3PSTBL',), 0.2857142857142857), (('D_NP3GAIT',), 0.25)]"
      ]
     },
     "execution_count": 43,
     "metadata": {},
     "output_type": "execute_result"
    }
   ],
   "source": [
    "# Specfifc\n",
    "\n",
    "uii_spec_qs = {'D_NP3GAIT','D_NP3PSTBL'}\n",
    "\n",
    "uii_spec_sets = []\n",
    "for x in range(1,len(uiii_all_qs)):\n",
    "    uii_spec_sets.append(list(itertools.combinations(uii_spec_qs, x)))\n",
    "    \n",
    "uii_spec_flatten = [element for sublist in uii_spec_sets for element in sublist]\n",
    "uii_spec_flatten[0]\n",
    "print('count : ',len(uii_spec_flatten))\n",
    "\n",
    "uii_spec_results = []\n",
    "for qs in uii_spec_flatten:\n",
    "    specific_test_q_subset(uiii_data, qs, uii_spec_results)\n",
    "    \n",
    "uii_spec_results"
   ]
  },
  {
   "cell_type": "code",
   "execution_count": null,
   "id": "f965d3bc-bc86-43dc-b411-287155b8a4db",
   "metadata": {},
   "outputs": [],
   "source": []
  }
 ],
 "metadata": {
  "kernelspec": {
   "display_name": "Python 3 (ipykernel)",
   "language": "python",
   "name": "python3"
  },
  "language_info": {
   "codemirror_mode": {
    "name": "ipython",
    "version": 3
   },
   "file_extension": ".py",
   "mimetype": "text/x-python",
   "name": "python",
   "nbconvert_exporter": "python",
   "pygments_lexer": "ipython3",
   "version": "3.8.13"
  }
 },
 "nbformat": 4,
 "nbformat_minor": 5
}
