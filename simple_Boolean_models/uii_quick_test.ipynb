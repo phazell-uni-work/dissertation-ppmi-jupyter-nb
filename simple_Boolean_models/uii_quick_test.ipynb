{
 "cells": [
  {
   "cell_type": "code",
   "execution_count": 24,
   "id": "b99ade6f-f0a0-4b3e-a75f-bad883863dfe",
   "metadata": {},
   "outputs": [],
   "source": [
    "import math\n",
    "import numpy as np\n",
    "import pandas\n",
    "import itertools\n",
    "from sklearn.metrics import precision_score\n",
    "\n",
    "\n",
    "uii_data = pandas.read_csv('../working_data/updrsii_all_q_p_s.csv')"
   ]
  },
  {
   "cell_type": "code",
   "execution_count": 25,
   "id": "710e0451-9a18-4b02-a2d5-6b7191e9c55e",
   "metadata": {},
   "outputs": [],
   "source": [
    "def query_builder(qs):\n",
    "    output = \"\"\n",
    "    for q in qs:\n",
    "        add = f'{q} > 0.0 and '\n",
    "        output = output + add        \n",
    "    return output[:-5]\n",
    "\n",
    "def test_q_subset(source,qs,results):\n",
    "    df_tmp = source.query(query_builder(qs))\n",
    "    row,_ = df_tmp.shape\n",
    "    if row > 5:\n",
    "        y = df_tmp['SIGFALL']\n",
    "        predictions = [1.0] * len(y)\n",
    "        p = precision_score(y, predictions, zero_division=0)\n",
    "        if p > 0.4:\n",
    "            results.append((qs, p))\n",
    "       \n",
    "    \n",
    "def specific_query_builder(qs):\n",
    "    output = \"\"\n",
    "    for q in qs:\n",
    "        add = f'{q} > 1.0 and '\n",
    "        output = output + add        \n",
    "    return output[:-5]\n",
    "\n",
    "def specific_test_q_subset(source,qs,results):\n",
    "    df_tmp = source.query(specific_query_builder(qs))\n",
    "    row,_ = df_tmp.shape\n",
    "    if row > 5:\n",
    "        y = df_tmp['SIGFALL']\n",
    "        predictions = [1.0] * len(y)\n",
    "        p = precision_score(y, predictions, zero_division=0)\n",
    "        if p > 0.1:\n",
    "            results.append((qs, p))"
   ]
  },
  {
   "cell_type": "code",
   "execution_count": 26,
   "id": "1afcdbf0-329e-4b0f-b62f-d591855d8d69",
   "metadata": {},
   "outputs": [],
   "source": [
    "# Perebor it:\n",
    "\n",
    "uii_all_qs = {'D_NP2SPCH', 'D_NP2SALV', 'D_NP2SWAL', 'D_NP2EAT',\n",
    "       'D_NP2DRES', 'D_NP2HYGN', 'D_NP2HWRT', 'D_NP2HOBB', 'D_NP2TURN',\n",
    "       'D_NP2TRMR', 'D_NP2RISE', 'D_NP2WALK', 'D_NP2FREZ', 'D_NP2PTOT'}\n",
    "\n",
    "uii_sets = []\n",
    "\n",
    "for x in range(1,len(uii_all_qs)):\n",
    "    uii_sets.append(list(itertools.combinations(uii_all_qs, x)))"
   ]
  },
  {
   "cell_type": "code",
   "execution_count": 27,
   "id": "0934253a-e48d-4b73-a886-665041771076",
   "metadata": {},
   "outputs": [
    {
     "data": {
      "text/plain": [
       "16382"
      ]
     },
     "execution_count": 27,
     "metadata": {},
     "output_type": "execute_result"
    }
   ],
   "source": [
    "uii_flatten = [element for sublist in uii_sets for element in sublist]\n",
    "uii_flatten[0]\n",
    "len(uii_flatten)"
   ]
  },
  {
   "cell_type": "code",
   "execution_count": 28,
   "id": "8d97316f-9be3-4869-9a91-906ed851065d",
   "metadata": {},
   "outputs": [],
   "source": [
    "# Try ALL the combinations:\n",
    "\n",
    "uii_results = []\n",
    "for qs in uii_flatten:\n",
    "    test_q_subset(uii_data, qs, uii_results)"
   ]
  },
  {
   "cell_type": "code",
   "execution_count": 29,
   "id": "c60bc59a-e7b2-4524-b502-f982ae773d7c",
   "metadata": {},
   "outputs": [
    {
     "data": {
      "text/plain": [
       "[(('D_NP2TRMR', 'D_NP2HOBB', 'D_NP2FREZ'), 0.42857142857142855),\n",
       " (('D_NP2HWRT', 'D_NP2SWAL', 'D_NP2FREZ'), 0.5),\n",
       " (('D_NP2HWRT', 'D_NP2FREZ', 'D_NP2EAT'), 0.5),\n",
       " (('D_NP2DRES', 'D_NP2FREZ', 'D_NP2EAT'), 0.45454545454545453),\n",
       " (('D_NP2SWAL', 'D_NP2WALK', 'D_NP2FREZ'), 0.42857142857142855),\n",
       " (('D_NP2SWAL', 'D_NP2HOBB', 'D_NP2FREZ'), 0.4444444444444444),\n",
       " (('D_NP2RISE', 'D_NP2FREZ', 'D_NP2EAT'), 0.4444444444444444),\n",
       " (('D_NP2TRMR', 'D_NP2RISE', 'D_NP2WALK', 'D_NP2FREZ'), 0.5),\n",
       " (('D_NP2TRMR', 'D_NP2PTOT', 'D_NP2HOBB', 'D_NP2FREZ'), 0.42857142857142855),\n",
       " (('D_NP2HWRT', 'D_NP2SWAL', 'D_NP2PTOT', 'D_NP2FREZ'), 0.4444444444444444),\n",
       " (('D_NP2HWRT', 'D_NP2SWAL', 'D_NP2HOBB', 'D_NP2FREZ'), 0.6666666666666666),\n",
       " (('D_NP2HWRT', 'D_NP2PTOT', 'D_NP2FREZ', 'D_NP2EAT'), 0.5),\n",
       " (('D_NP2DRES', 'D_NP2SWAL', 'D_NP2RISE', 'D_NP2EAT'), 0.42857142857142855),\n",
       " (('D_NP2DRES', 'D_NP2SWAL', 'D_NP2FREZ', 'D_NP2EAT'), 0.42857142857142855),\n",
       " (('D_NP2DRES', 'D_NP2RISE', 'D_NP2FREZ', 'D_NP2EAT'), 0.42857142857142855),\n",
       " (('D_NP2DRES', 'D_NP2PTOT', 'D_NP2FREZ', 'D_NP2EAT'), 0.45454545454545453),\n",
       " (('D_NP2DRES', 'D_NP2HYGN', 'D_NP2FREZ', 'D_NP2EAT'), 0.5),\n",
       " (('D_NP2SWAL', 'D_NP2WALK', 'D_NP2PTOT', 'D_NP2FREZ'), 0.42857142857142855),\n",
       " (('D_NP2TURN', 'D_NP2SALV', 'D_NP2HOBB', 'D_NP2FREZ'), 0.5),\n",
       " (('D_NP2RISE', 'D_NP2PTOT', 'D_NP2FREZ', 'D_NP2EAT'), 0.4444444444444444),\n",
       " (('D_NP2HYGN', 'D_NP2HOBB', 'D_NP2FREZ', 'D_NP2EAT'), 0.5),\n",
       " (('D_NP2TRMR', 'D_NP2RISE', 'D_NP2WALK', 'D_NP2PTOT', 'D_NP2FREZ'), 0.5),\n",
       " (('D_NP2DRES', 'D_NP2SWAL', 'D_NP2RISE', 'D_NP2PTOT', 'D_NP2EAT'),\n",
       "  0.42857142857142855),\n",
       " (('D_NP2DRES', 'D_NP2SWAL', 'D_NP2PTOT', 'D_NP2FREZ', 'D_NP2EAT'),\n",
       "  0.42857142857142855),\n",
       " (('D_NP2DRES', 'D_NP2RISE', 'D_NP2PTOT', 'D_NP2FREZ', 'D_NP2EAT'),\n",
       "  0.42857142857142855),\n",
       " (('D_NP2DRES', 'D_NP2PTOT', 'D_NP2HYGN', 'D_NP2FREZ', 'D_NP2EAT'), 0.5),\n",
       " (('D_NP2TURN', 'D_NP2SALV', 'D_NP2PTOT', 'D_NP2HOBB', 'D_NP2FREZ'), 0.5),\n",
       " (('D_NP2RISE', 'D_NP2WALK', 'D_NP2PTOT', 'D_NP2SPCH', 'D_NP2FREZ'),\n",
       "  0.42857142857142855),\n",
       " (('D_NP2PTOT', 'D_NP2HYGN', 'D_NP2HOBB', 'D_NP2FREZ', 'D_NP2EAT'), 0.5)]"
      ]
     },
     "execution_count": 29,
     "metadata": {},
     "output_type": "execute_result"
    }
   ],
   "source": [
    "uii_results"
   ]
  },
  {
   "cell_type": "code",
   "execution_count": 16,
   "id": "5506a6c2-5391-42d8-a7dd-4d020947f733",
   "metadata": {},
   "outputs": [
    {
     "name": "stdout",
     "output_type": "stream",
     "text": [
      "count :  15\n"
     ]
    },
    {
     "data": {
      "text/plain": [
       "[(('D_NP2PTOT',), 0.16379310344827586),\n",
       " (('D_NP2FREZ',), 0.2777777777777778),\n",
       " (('D_NP2RISE',), 0.2777777777777778),\n",
       " (('D_NP2WALK',), 0.25),\n",
       " (('D_NP2PTOT', 'D_NP2FREZ'), 0.29411764705882354),\n",
       " (('D_NP2PTOT', 'D_NP2RISE'), 0.3333333333333333),\n",
       " (('D_NP2PTOT', 'D_NP2WALK'), 0.2857142857142857),\n",
       " (('D_NP2FREZ', 'D_NP2WALK'), 0.2857142857142857),\n",
       " (('D_NP2PTOT', 'D_NP2FREZ', 'D_NP2WALK'), 0.2857142857142857)]"
      ]
     },
     "execution_count": 16,
     "metadata": {},
     "output_type": "execute_result"
    }
   ],
   "source": [
    "# Specfifc\n",
    "\n",
    "uii_spec_qs = {'D_NP2RISE','D_NP2WALK', 'D_NP2FREZ', 'D_NP2PTOT'}\n",
    "\n",
    "uii_spec_sets = []\n",
    "for x in range(1,len(uii_all_qs)):\n",
    "    uii_spec_sets.append(list(itertools.combinations(uii_spec_qs, x)))\n",
    "    \n",
    "uii_spec_flatten = [element for sublist in uii_spec_sets for element in sublist]\n",
    "uii_spec_flatten[0]\n",
    "print('count : ',len(uii_spec_flatten))\n",
    "\n",
    "uii_spec_results = []\n",
    "for qs in uii_spec_flatten:\n",
    "    specific_test_q_subset(uii_data, qs, uii_spec_results)\n",
    "    \n",
    "uii_spec_results"
   ]
  },
  {
   "cell_type": "code",
   "execution_count": 18,
   "id": "838abc68-e39b-43d3-85c8-a1b7510fc35c",
   "metadata": {},
   "outputs": [
    {
     "name": "stdout",
     "output_type": "stream",
     "text": [
      "(644, 16)\n",
      "(82, 16)\n"
     ]
    }
   ],
   "source": [
    "print(uii_data.query(\"SIGFALL == 0\").shape)\n",
    "print(uii_data.query(\"SIGFALL > 0\").shape)"
   ]
  },
  {
   "cell_type": "code",
   "execution_count": 23,
   "id": "7133d99c-585a-4893-b02c-43ecd3b30f98",
   "metadata": {},
   "outputs": [
    {
     "data": {
      "text/plain": [
       "0.12732919254658384"
      ]
     },
     "execution_count": 23,
     "metadata": {},
     "output_type": "execute_result"
    }
   ],
   "source": [
    "82/644"
   ]
  },
  {
   "cell_type": "code",
   "execution_count": 22,
   "id": "0b3ba564-7787-437a-b841-6bcba5ebcdd5",
   "metadata": {},
   "outputs": [
    {
     "data": {
      "text/plain": [
       "0.8726708074534162"
      ]
     },
     "execution_count": 22,
     "metadata": {},
     "output_type": "execute_result"
    }
   ],
   "source": [
    "(644 - 82)/644"
   ]
  }
 ],
 "metadata": {
  "kernelspec": {
   "display_name": "Python 3 (ipykernel)",
   "language": "python",
   "name": "python3"
  },
  "language_info": {
   "codemirror_mode": {
    "name": "ipython",
    "version": 3
   },
   "file_extension": ".py",
   "mimetype": "text/x-python",
   "name": "python",
   "nbconvert_exporter": "python",
   "pygments_lexer": "ipython3",
   "version": "3.8.13"
  }
 },
 "nbformat": 4,
 "nbformat_minor": 5
}
