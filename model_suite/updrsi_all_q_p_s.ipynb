{
 "cells": [
  {
   "cell_type": "code",
   "execution_count": 1,
   "id": "74908cfa-5994-492c-af4f-ffd17c07013f",
   "metadata": {},
   "outputs": [],
   "source": [
    "import math\n",
    "import numpy as np\n",
    "from sklearn.model_selection import StratifiedKFold\n",
    "from sklearn.preprocessing import StandardScaler, normalize\n",
    "\n",
    "original_data = np.genfromtxt('../working_data/updrsi_all_q_p_s.csv', delimiter=',', skip_header=True)\n",
    "n_rows, n_columns = original_data.shape\n",
    "\n",
    "data = original_data[:,0:(n_columns - 1)]\n",
    "labels = original_data[:,(n_columns - 1)]\n",
    "\n",
    "scaler = StandardScaler().fit(data)\n",
    "data_standardized = scaler.transform(data)\n",
    "\n",
    "data_normalized = normalize(data)\n",
    "\n",
    "cross_fold_validations = StratifiedKFold(n_splits=10, shuffle=True)\n",
    "\n",
    "overall_results = []"
   ]
  },
  {
   "cell_type": "code",
   "execution_count": 6,
   "id": "55c1236f-5f68-4444-a31b-f9e095044529",
   "metadata": {},
   "outputs": [],
   "source": [
    "from sklearn.metrics import f1_score, roc_auc_score, precision_score, recall_score\n",
    "\n",
    "class Model:\n",
    "    def __init__(self,name,ml_model):\n",
    "        self.name = name\n",
    "        self.model = ml_model\n",
    "        self.f1_scores = []\n",
    "        self.roc_auc_scores = []\n",
    "        self.precision_scores = []\n",
    "        self.recall_scores = []\n",
    "        \n",
    "    def add_f1(self,x):\n",
    "        self.f1_scores.append(x)\n",
    "        \n",
    "    def add_roc(self,x):\n",
    "        self.roc_auc_scores.append(x)\n",
    "        \n",
    "    def add_precision(self,x):\n",
    "        self.precision_scores.append(x)\n",
    "        \n",
    "    def add_recall(self,x):\n",
    "        self.recall_scores.append(x)\n",
    "        \n",
    "    def summary(self):\n",
    "        f1_mean = np.mean(self.f1_scores)\n",
    "        f1_std = np.std(self.f1_scores)\n",
    "        roc_mean = np.mean(self.roc_auc_scores)\n",
    "        roc_std = np.std(self.roc_auc_scores)\n",
    "        prec_mean = np.mean(self.precision_scores)\n",
    "        prec_std = np.std(self.precision_scores)\n",
    "        rec_mean = np.mean(self.recall_scores)\n",
    "        rec_std = np.std(self.recall_scores)\n",
    "        return {self.name : {\n",
    "            'f1_mean' : f1_mean,\n",
    "            'f1_std' : f1_std,\n",
    "            'roc_mean' : roc_mean,\n",
    "            'roc_std' : roc_std,\n",
    "            'precision_mean' : prec_mean,\n",
    "            'precision_std' : prec_std,\n",
    "            'recall_mean' : rec_mean,\n",
    "            'recall_std' : rec_std\n",
    "        }}\n",
    "\n",
    "def model_runner(model_list):\n",
    "    for train, test in cross_fold_validations.split(data,labels):\n",
    "        x_train = data[train]\n",
    "        x_test = data[test]\n",
    "        y_train = labels[train]\n",
    "        y_test = labels[test]\n",
    "\n",
    "        for m in model_list:\n",
    "            m.model.fit(x_train,y_train)\n",
    "            predictions = m.model.predict(x_test)\n",
    "            roc_auc = roc_auc_score(y_test, predictions)\n",
    "            f1 = f1_score(y_test,predictions)\n",
    "            precision = precision_score(y_test, predictions, zero_division=0)\n",
    "            recall = recall_score(y_test, predictions)\n",
    "            m.add_f1(f1)\n",
    "            m.add_roc(roc_auc)\n",
    "            m.add_precision(precision)\n",
    "            m.add_recall(recall)\n",
    "            \n",
    "def model_runner_standardized(model_list):\n",
    "    for train, test in cross_fold_validations.split(data,labels):\n",
    "        x_train = data_standardized[train]\n",
    "        x_test = data_standardized[test]\n",
    "        y_train = labels[train]\n",
    "        y_test = labels[test]\n",
    "\n",
    "        for m in model_list:\n",
    "            m.model.fit(x_train,y_train)\n",
    "            predictions = m.model.predict(x_test)\n",
    "            roc_auc = roc_auc_score(y_test, predictions)\n",
    "            f1 = f1_score(y_test,predictions)\n",
    "            precision = precision_score(y_test, predictions, zero_division=0)\n",
    "            recall = recall_score(y_test, predictions)\n",
    "            m.add_f1(f1)\n",
    "            m.add_roc(roc_auc)\n",
    "            m.add_precision(precision)\n",
    "            m.add_recall(recall)\n",
    " \n",
    "def model_runner_normalized(model_list):\n",
    "    for train, test in cross_fold_validations.split(data,labels):\n",
    "        x_train = data_normalized[train]\n",
    "        x_test = data_normalized[test]\n",
    "        y_train = labels[train]\n",
    "        y_test = labels[test]\n",
    "\n",
    "        for m in model_list:\n",
    "            m.model.fit(x_train,y_train)\n",
    "            predictions = m.model.predict(x_test)\n",
    "            roc_auc = roc_auc_score(y_test, predictions)\n",
    "            f1 = f1_score(y_test,predictions)\n",
    "            precision = precision_score(y_test, predictions, zero_division=0)\n",
    "            recall = recall_score(y_test, predictions)\n",
    "            m.add_f1(f1)\n",
    "            m.add_roc(roc_auc)\n",
    "            m.add_precision(precision)\n",
    "            m.add_recall(recall)"
   ]
  },
  {
   "cell_type": "code",
   "execution_count": 7,
   "id": "f7d39115-273b-488b-8749-9f6313b9fc3b",
   "metadata": {},
   "outputs": [],
   "source": [
    "# Gaussian Naive Bayes\n",
    "from sklearn.naive_bayes import GaussianNB\n",
    "\n",
    "gnb_models = [ \n",
    "              Model('GNB1',GaussianNB(priors=[0.1,0.9])), \n",
    "              Model('GNB2', GaussianNB(priors=[0.2,0.8])),\n",
    "              Model('GNB3', GaussianNB(priors=[0.3,0.7])),\n",
    "              Model('GNB4', GaussianNB(priors=[0.4,0.6])),\n",
    "              Model('GNB5', GaussianNB(priors=[0.5,0.5])),\n",
    "              Model('GNB6', GaussianNB(priors=[0.6,0.4])),\n",
    "              Model('GNB7', GaussianNB(priors=[0.7,0.3])),\n",
    "              Model('GNB8', GaussianNB(priors=[0.8,0.2])),\n",
    "              Model('GNB9', GaussianNB(priors=[0.9,0.1])),\n",
    "             ]\n",
    "model_runner(gnb_models)\n"
   ]
  },
  {
   "cell_type": "code",
   "execution_count": 8,
   "id": "cbeda9bc-3c54-4742-a4f9-b188d4227a19",
   "metadata": {},
   "outputs": [
    {
     "name": "stdout",
     "output_type": "stream",
     "text": [
      "{'GNB1': {'f1_mean': 0.21146476964769648, 'f1_std': 0.012720848805992856, 'roc_mean': 0.4928571428571429, 'roc_std': 0.02419008040337805, 'precision_mean': 0.11860175164728512, 'precision_std': 0.007347954269735298, 'recall_mean': 0.9777777777777779, 'recall_std': 0.06666666666666667}}\n",
      "{'GNB2': {'f1_mean': 0.24080199986021017, 'f1_std': 0.06374393367428606, 'roc_mean': 0.566232638888889, 'roc_std': 0.10680193088812044, 'precision_mean': 0.14304187599984639, 'precision_std': 0.03860659108545476, 'recall_mean': 0.7763888888888889, 'recall_std': 0.2121365810329413}}\n",
      "{'GNB3': {'f1_mean': 0.3037119610667748, 'f1_std': 0.11036428339591674, 'roc_mean': 0.6265376984126985, 'roc_std': 0.11354336505886123, 'precision_mean': 0.20977705086850512, 'precision_std': 0.08233532538945121, 'recall_mean': 0.5597222222222221, 'recall_std': 0.16919950420205793}}\n",
      "{'GNB4': {'f1_mean': 0.3000907314010762, 'f1_std': 0.11314793496399658, 'roc_mean': 0.611297123015873, 'roc_std': 0.09874384142607925, 'precision_mean': 0.22396084707790695, 'precision_std': 0.09716933552248236, 'recall_mean': 0.46944444444444444, 'recall_std': 0.13173228557088196}}\n",
      "{'GNB5': {'f1_mean': 0.30122365061429063, 'f1_std': 0.09697385279706495, 'roc_mean': 0.6104042658730158, 'roc_std': 0.07377945013344392, 'precision_mean': 0.2471037714024657, 'precision_std': 0.08902889238761967, 'recall_mean': 0.4, 'recall_std': 0.12056963563450392}}\n",
      "{'GNB6': {'f1_mean': 0.31630403074339003, 'f1_std': 0.08950745470883084, 'roc_mean': 0.6205853174603174, 'roc_std': 0.06397290967372841, 'precision_mean': 0.2755178155178155, 'precision_std': 0.08074164374697824, 'recall_mean': 0.3888888888888889, 'recall_std': 0.12108052620946316}}\n",
      "{'GNB7': {'f1_mean': 0.3343598673503102, 'f1_std': 0.09243540287781017, 'roc_mean': 0.6276041666666666, 'roc_std': 0.060795464746913046, 'precision_mean': 0.3096146337322808, 'precision_std': 0.08884921825134345, 'recall_mean': 0.37777777777777777, 'recall_std': 0.10985399962936217}}\n",
      "{'GNB8': {'f1_mean': 0.34852059817061837, 'f1_std': 0.0935029651627101, 'roc_mean': 0.6346850198412698, 'roc_std': 0.059788892061022156, 'precision_mean': 0.33184343434343433, 'precision_std': 0.08811405072466401, 'recall_mean': 0.37777777777777777, 'recall_std': 0.10985399962936217}}\n",
      "{'GNB9': {'f1_mean': 0.3292909062938677, 'f1_std': 0.09440460639716473, 'roc_mean': 0.6197792658730158, 'roc_std': 0.05774887168334329, 'precision_mean': 0.3282828282828283, 'precision_std': 0.09705981450148221, 'recall_mean': 0.3416666666666667, 'recall_std': 0.10322724542256692}}\n"
     ]
    }
   ],
   "source": [
    "# gnb_models[8].roc_auc_scores\n",
    "# need some selection method\n",
    "# try plotting this f1 vs roc; prec vs recall\n",
    "# average statistics ?\n",
    "\n",
    "for model in gnb_models:\n",
    "    print(model.summary())"
   ]
  },
  {
   "cell_type": "code",
   "execution_count": 127,
   "id": "d7d2a5ee-a0f9-4b96-b276-5bf4f51f6f81",
   "metadata": {},
   "outputs": [],
   "source": [
    "# Linear Discriminant Analysis\n",
    "\n",
    "from sklearn.discriminant_analysis import LinearDiscriminantAnalysis\n",
    "\n",
    "lda_models = [\n",
    "    Model('LDA1', LinearDiscriminantAnalysis(solver='svd', priors=[0.25,0.75])),\n",
    "    Model('LDA2', LinearDiscriminantAnalysis(solver='svd', priors=[0.5,0.5])),\n",
    "    Model('LDA3', LinearDiscriminantAnalysis(solver='svd', priors=[0.75,0.25])),\n",
    "    Model('LDA4', LinearDiscriminantAnalysis(solver='eigen', priors=[0.25,0.75])),\n",
    "    Model('LDA5', LinearDiscriminantAnalysis(solver='eigen', priors=[0.5,0.5])),\n",
    "    Model('LDA6', LinearDiscriminantAnalysis(solver='eigen', priors=[0.75,0.25])),\n",
    "    Model('LDA7', LinearDiscriminantAnalysis(solver='lsqr', priors=[0.25,0.75])),\n",
    "    Model('LDA8', LinearDiscriminantAnalysis(solver='lsqr', priors=[0.5,0.5])),\n",
    "    Model('LDA9', LinearDiscriminantAnalysis(solver='lsqr', priors=[0.75,0.25])),\n",
    "]\n",
    "\n",
    "model_runner_standardized(lda_models)"
   ]
  },
  {
   "cell_type": "code",
   "execution_count": 128,
   "id": "920825e1-343b-4d51-9d2b-57af8f12125b",
   "metadata": {},
   "outputs": [
    {
     "data": {
      "text/plain": [
       "[0.5666666666666667,\n",
       " 0.6124999999999999,\n",
       " 0.7666666666666667,\n",
       " 0.7083333333333334,\n",
       " 0.526829268292683,\n",
       " 0.6268292682926829,\n",
       " 0.7146341463414635,\n",
       " 0.4658536585365854,\n",
       " 0.6902439024390246,\n",
       " 0.8124999999999999]"
      ]
     },
     "execution_count": 128,
     "metadata": {},
     "output_type": "execute_result"
    }
   ],
   "source": [
    "lda_models[4].roc_auc_scores"
   ]
  },
  {
   "cell_type": "code",
   "execution_count": 132,
   "id": "f4522626-93ef-42d5-8eb2-4c1f0bd70ae3",
   "metadata": {},
   "outputs": [],
   "source": [
    "# Quadratic Discriminant Analysis\n",
    "\n",
    "from sklearn.discriminant_analysis import QuadraticDiscriminantAnalysis\n",
    "\n",
    "qda_models = [ \n",
    "              Model('QDA1',QuadraticDiscriminantAnalysis(priors=[0.1,0.9])), \n",
    "              Model('QDA2', QuadraticDiscriminantAnalysis(priors=[0.2,0.8])),\n",
    "              Model('QDA3', QuadraticDiscriminantAnalysis(priors=[0.3,0.7])),\n",
    "              Model('QDA4', QuadraticDiscriminantAnalysis(priors=[0.4,0.6])),\n",
    "              Model('QDA5', QuadraticDiscriminantAnalysis(priors=[0.5,0.5])),\n",
    "              Model('QDA6', QuadraticDiscriminantAnalysis(priors=[0.6,0.4])),\n",
    "              Model('QDA7', QuadraticDiscriminantAnalysis(priors=[0.7,0.3])),\n",
    "              Model('QDA8', QuadraticDiscriminantAnalysis(priors=[0.8,0.2])),\n",
    "              Model('QDA9', QuadraticDiscriminantAnalysis(priors=[0.9,0.1])),\n",
    "             ]\n",
    "\n",
    "model_runner_standardized(qda_models)"
   ]
  },
  {
   "cell_type": "code",
   "execution_count": 133,
   "id": "144588aa-6c88-436e-849a-f380dabafc21",
   "metadata": {},
   "outputs": [
    {
     "data": {
      "text/plain": [
       "[0.7208333333333332,\n",
       " 0.6416666666666666,\n",
       " 0.9041666666666667,\n",
       " 0.6041666666666666,\n",
       " 0.551219512195122,\n",
       " 0.6024390243902439,\n",
       " 0.7390243902439025,\n",
       " 0.7390243902439025,\n",
       " 0.5024390243902439,\n",
       " 0.6625]"
      ]
     },
     "execution_count": 133,
     "metadata": {},
     "output_type": "execute_result"
    }
   ],
   "source": [
    "qda_models[4].roc_auc_scores"
   ]
  },
  {
   "cell_type": "code",
   "execution_count": 166,
   "id": "2eef4b10-869e-4579-b860-14815637187a",
   "metadata": {},
   "outputs": [],
   "source": [
    "# Support Vector Machines\n",
    "from sklearn.svm import SVC\n",
    "\n",
    "svm_models = [\n",
    "    Model('SVM1', SVC(kernel='linear', class_weight=None)),\n",
    "    Model('SVM2', SVC(kernel='linear', class_weight='balanced')),\n",
    "    Model('SVM3', SVC(kernel='rbf', class_weight=None)),\n",
    "    Model('SVM4', SVC(kernel='rbf', class_weight='balanced')),\n",
    "    Model('SVM5', SVC(kernel='poly', class_weight=None, degree=3)),\n",
    "    Model('SVM6', SVC(kernel='poly', class_weight=None, degree=4)),\n",
    "    Model('SVM7', SVC(kernel='poly', class_weight=None, degree=5)),\n",
    "    Model('SVM8', SVC(kernel='poly', class_weight=None, degree=6)),\n",
    "    Model('SVM9', SVC(kernel='poly', class_weight=None, degree=7)),\n",
    "    Model('SVM10', SVC(kernel='poly', class_weight='balanced', degree=3)),\n",
    "    Model('SVM11', SVC(kernel='poly', class_weight='balanced', degree=4)),\n",
    "    Model('SVM12', SVC(kernel='poly', class_weight='balanced', degree=5)),\n",
    "    Model('SVM13', SVC(kernel='poly', class_weight='balanced', degree=6)),\n",
    "    Model('SVM14', SVC(kernel='poly', class_weight='balanced', degree=7)),\n",
    "]\n",
    "\n",
    "model_runner_normalized(svm_models)"
   ]
  },
  {
   "cell_type": "code",
   "execution_count": 167,
   "id": "b807cc61-62a5-4c01-ba5e-2972ace373cf",
   "metadata": {},
   "outputs": [
    {
     "data": {
      "text/plain": [
       "[0.0,\n",
       " 0.16666666666666666,\n",
       " 0.5,\n",
       " 0.3333333333333333,\n",
       " 0.0,\n",
       " 0.2,\n",
       " 0.2,\n",
       " 0.4,\n",
       " 0.2,\n",
       " 0.2]"
      ]
     },
     "execution_count": 167,
     "metadata": {},
     "output_type": "execute_result"
    }
   ],
   "source": [
    "svm_models[9].recall_scores"
   ]
  },
  {
   "cell_type": "code",
   "execution_count": 156,
   "id": "4cdc0033-b417-43ac-a27e-5523e6d3c615",
   "metadata": {},
   "outputs": [],
   "source": [
    "# Random Forest\n",
    "from sklearn.ensemble import RandomForestClassifier\n",
    "\n",
    "rf_models = [\n",
    "    Model('RF1',RandomForestClassifier(n_estimators=50, class_weight='balanced')),\n",
    "    Model('RF2',RandomForestClassifier(n_estimators=100, class_weight='balanced')),\n",
    "    Model('RF3',RandomForestClassifier(n_estimators=150, class_weight='balanced')),\n",
    "    Model('RF4',RandomForestClassifier(n_estimators=200, class_weight='balanced')),\n",
    "    Model('RF5',RandomForestClassifier(n_estimators=50, class_weight='balanced_subsample')),\n",
    "    Model('RF6',RandomForestClassifier(n_estimators=100, class_weight='balanced_subsample')),\n",
    "    Model('RF7',RandomForestClassifier(n_estimators=150, class_weight='balanced_subsample')),\n",
    "    Model('RF8',RandomForestClassifier(n_estimators=200, class_weight='balanced_subsample'))    \n",
    "]\n",
    "\n",
    "model_runner(rf_models)"
   ]
  },
  {
   "cell_type": "code",
   "execution_count": 164,
   "id": "3d9bb036-3744-447e-9f35-dba7f933bb7e",
   "metadata": {},
   "outputs": [
    {
     "data": {
      "text/plain": [
       "[0.5833333333333334,\n",
       " 0.475,\n",
       " 0.5,\n",
       " 0.5833333333333334,\n",
       " 0.4878048780487805,\n",
       " 0.5,\n",
       " 0.6,\n",
       " 0.5,\n",
       " 0.5878048780487805,\n",
       " 0.5]"
      ]
     },
     "execution_count": 164,
     "metadata": {},
     "output_type": "execute_result"
    }
   ],
   "source": [
    "rf_models[7].roc_auc_scores"
   ]
  },
  {
   "cell_type": "code",
   "execution_count": 169,
   "id": "c9a11802-f9ee-4b9c-b53c-20c01c7c148a",
   "metadata": {},
   "outputs": [],
   "source": [
    "# AdaBoost\n",
    "\n",
    "from sklearn.ensemble import AdaBoostClassifier\n",
    "\n",
    "ada_models = [\n",
    "    Model('ADA1', AdaBoostClassifier(n_estimators=100)),\n",
    "    Model('ADA2', AdaBoostClassifier(n_estimators=150)),\n",
    "    Model('ADA3', AdaBoostClassifier(n_estimators=200)),\n",
    "    Model('ADA4', AdaBoostClassifier(n_estimators=250)),\n",
    "    Model('ADA5', AdaBoostClassifier(n_estimators=300)),\n",
    "    Model('ADA6', AdaBoostClassifier(n_estimators=350)),\n",
    "    Model('ADA7', AdaBoostClassifier(n_estimators=400)),\n",
    "]\n",
    "\n",
    "model_runner(ada_models)"
   ]
  },
  {
   "cell_type": "code",
   "execution_count": 171,
   "id": "91c40302-f638-4b89-821c-bc0df4c9bb42",
   "metadata": {},
   "outputs": [
    {
     "data": {
      "text/plain": [
       "[0.45,\n",
       " 0.5708333333333333,\n",
       " 0.425,\n",
       " 0.5583333333333333,\n",
       " 0.4268292682926829,\n",
       " 0.526829268292683,\n",
       " 0.4878048780487805,\n",
       " 0.4634146341463415,\n",
       " 0.7,\n",
       " 0.45]"
      ]
     },
     "execution_count": 171,
     "metadata": {},
     "output_type": "execute_result"
    }
   ],
   "source": [
    "ada_models[6].roc_auc_scores"
   ]
  },
  {
   "cell_type": "code",
   "execution_count": 173,
   "id": "b5650477-a506-44ed-86ee-74c861dbd8ac",
   "metadata": {},
   "outputs": [
    {
     "name": "stdout",
     "output_type": "stream",
     "text": [
      "[14:31:56] WARNING: ../src/learner.cc:627: \n",
      "Parameters: { \"colsample_bynode\", \"num_parallel_tree\", \"subsample\" } might not be used.\n",
      "\n",
      "  This could be a false alarm, with some parameters getting used by language bindings but\n",
      "  then being mistakenly passed down to XGBoost core, or some parameter actually being used\n",
      "  but getting flagged wrongly here. Please open an issue if you find any such cases.\n",
      "\n",
      "\n",
      "[14:31:56] WARNING: ../src/learner.cc:627: \n",
      "Parameters: { \"colsample_bynode\", \"num_parallel_tree\", \"subsample\" } might not be used.\n",
      "\n",
      "  This could be a false alarm, with some parameters getting used by language bindings but\n",
      "  then being mistakenly passed down to XGBoost core, or some parameter actually being used\n",
      "  but getting flagged wrongly here. Please open an issue if you find any such cases.\n",
      "\n",
      "\n",
      "[14:31:56] WARNING: ../src/learner.cc:627: \n",
      "Parameters: { \"colsample_bynode\", \"num_parallel_tree\", \"subsample\" } might not be used.\n",
      "\n",
      "  This could be a false alarm, with some parameters getting used by language bindings but\n",
      "  then being mistakenly passed down to XGBoost core, or some parameter actually being used\n",
      "  but getting flagged wrongly here. Please open an issue if you find any such cases.\n",
      "\n",
      "\n",
      "[14:31:56] WARNING: ../src/learner.cc:627: \n",
      "Parameters: { \"colsample_bynode\", \"num_parallel_tree\", \"subsample\" } might not be used.\n",
      "\n",
      "  This could be a false alarm, with some parameters getting used by language bindings but\n",
      "  then being mistakenly passed down to XGBoost core, or some parameter actually being used\n",
      "  but getting flagged wrongly here. Please open an issue if you find any such cases.\n",
      "\n",
      "\n",
      "[14:31:56] WARNING: ../src/learner.cc:627: \n",
      "Parameters: { \"colsample_bynode\", \"num_parallel_tree\", \"subsample\" } might not be used.\n",
      "\n",
      "  This could be a false alarm, with some parameters getting used by language bindings but\n",
      "  then being mistakenly passed down to XGBoost core, or some parameter actually being used\n",
      "  but getting flagged wrongly here. Please open an issue if you find any such cases.\n",
      "\n",
      "\n",
      "[14:31:56] WARNING: ../src/learner.cc:627: \n",
      "Parameters: { \"colsample_bynode\", \"num_parallel_tree\", \"subsample\" } might not be used.\n",
      "\n",
      "  This could be a false alarm, with some parameters getting used by language bindings but\n",
      "  then being mistakenly passed down to XGBoost core, or some parameter actually being used\n",
      "  but getting flagged wrongly here. Please open an issue if you find any such cases.\n",
      "\n",
      "\n",
      "[14:31:56] WARNING: ../src/learner.cc:627: \n",
      "Parameters: { \"colsample_bynode\", \"num_parallel_tree\", \"subsample\" } might not be used.\n",
      "\n",
      "  This could be a false alarm, with some parameters getting used by language bindings but\n",
      "  then being mistakenly passed down to XGBoost core, or some parameter actually being used\n",
      "  but getting flagged wrongly here. Please open an issue if you find any such cases.\n",
      "\n",
      "\n",
      "[14:31:57] WARNING: ../src/learner.cc:627: \n",
      "Parameters: { \"colsample_bynode\", \"num_parallel_tree\", \"subsample\" } might not be used.\n",
      "\n",
      "  This could be a false alarm, with some parameters getting used by language bindings but\n",
      "  then being mistakenly passed down to XGBoost core, or some parameter actually being used\n",
      "  but getting flagged wrongly here. Please open an issue if you find any such cases.\n",
      "\n",
      "\n",
      "[14:31:57] WARNING: ../src/learner.cc:627: \n",
      "Parameters: { \"colsample_bynode\", \"num_parallel_tree\", \"subsample\" } might not be used.\n",
      "\n",
      "  This could be a false alarm, with some parameters getting used by language bindings but\n",
      "  then being mistakenly passed down to XGBoost core, or some parameter actually being used\n",
      "  but getting flagged wrongly here. Please open an issue if you find any such cases.\n",
      "\n",
      "\n",
      "[14:31:57] WARNING: ../src/learner.cc:627: \n",
      "Parameters: { \"colsample_bynode\", \"num_parallel_tree\", \"subsample\" } might not be used.\n",
      "\n",
      "  This could be a false alarm, with some parameters getting used by language bindings but\n",
      "  then being mistakenly passed down to XGBoost core, or some parameter actually being used\n",
      "  but getting flagged wrongly here. Please open an issue if you find any such cases.\n",
      "\n",
      "\n"
     ]
    }
   ],
   "source": [
    "# XGBoost\n",
    "import xgboost as xgb\n",
    "\n",
    "xgb_models = [\n",
    "    Model('XGB1',xgb.XGBRFClassifier(booster='gbtree')),\n",
    "    Model('XGB2',xgb.XGBRFClassifier(booster='gblinear'))\n",
    "]\n",
    "\n",
    "model_runner(xgb_models)"
   ]
  },
  {
   "cell_type": "code",
   "execution_count": 179,
   "id": "b9bf0d46-2b98-4c00-849e-d321f71d4312",
   "metadata": {},
   "outputs": [
    {
     "data": {
      "text/plain": [
       "[0.16666666666666666,\n",
       " 0.16666666666666666,\n",
       " 0.0,\n",
       " 0.16666666666666666,\n",
       " 0.0,\n",
       " 0.0,\n",
       " 0.0,\n",
       " 0.0,\n",
       " 0.2,\n",
       " 0.0]"
      ]
     },
     "execution_count": 179,
     "metadata": {},
     "output_type": "execute_result"
    }
   ],
   "source": [
    "xgb_models[0].recall_scores"
   ]
  },
  {
   "cell_type": "code",
   "execution_count": null,
   "id": "345c591a-90de-451f-94f3-f45583d6bc47",
   "metadata": {},
   "outputs": [],
   "source": [
    "# LOGISTIC REGRESSION"
   ]
  }
 ],
 "metadata": {
  "kernelspec": {
   "display_name": "Python 3 (ipykernel)",
   "language": "python",
   "name": "python3"
  },
  "language_info": {
   "codemirror_mode": {
    "name": "ipython",
    "version": 3
   },
   "file_extension": ".py",
   "mimetype": "text/x-python",
   "name": "python",
   "nbconvert_exporter": "python",
   "pygments_lexer": "ipython3",
   "version": "3.8.13"
  }
 },
 "nbformat": 4,
 "nbformat_minor": 5
}
