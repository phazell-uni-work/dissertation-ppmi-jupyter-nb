{
 "cells": [
  {
   "cell_type": "code",
   "execution_count": 4,
   "id": "5b13f97a-cdc8-41af-b40f-400dadce37ff",
   "metadata": {},
   "outputs": [],
   "source": [
    "import math\n",
    "import json\n",
    "import numpy as np\n",
    "from sklearn.model_selection import StratifiedKFold\n",
    "from sklearn.preprocessing import StandardScaler, normalize\n",
    "from sklearn.discriminant_analysis import LinearDiscriminantAnalysis\n",
    "from sklearn.discriminant_analysis import QuadraticDiscriminantAnalysis\n",
    "from sklearn.linear_model import LogisticRegression\n",
    "from sklearn.ensemble import VotingClassifier\n",
    "\n",
    "cross_fold_validations = StratifiedKFold(n_splits=10, shuffle=True)"
   ]
  },
  {
   "cell_type": "code",
   "execution_count": 3,
   "id": "d882f782-2358-46c8-a017-3ed70b584620",
   "metadata": {},
   "outputs": [],
   "source": [
    "from sklearn.metrics import f1_score, roc_auc_score, precision_score, recall_score\n",
    "\n",
    "class Model:\n",
    "    def __init__(self,name,ml_model):\n",
    "        self.name = name\n",
    "        self.model = ml_model\n",
    "        self.f1_scores = []\n",
    "        self.roc_auc_scores = []\n",
    "        self.precision_scores = []\n",
    "        self.recall_scores = []\n",
    "        \n",
    "    def add_f1(self,x):\n",
    "        self.f1_scores.append(x)\n",
    "        \n",
    "    def add_roc(self,x):\n",
    "        self.roc_auc_scores.append(x)\n",
    "        \n",
    "    def add_precision(self,x):\n",
    "        self.precision_scores.append(x)\n",
    "        \n",
    "    def add_recall(self,x):\n",
    "        self.recall_scores.append(x)\n",
    "        \n",
    "    def summary(self):\n",
    "        f1_mean = np.mean(self.f1_scores)\n",
    "        f1_std = np.std(self.f1_scores)\n",
    "        roc_mean = np.mean(self.roc_auc_scores)\n",
    "        roc_std = np.std(self.roc_auc_scores)\n",
    "        prec_mean = np.mean(self.precision_scores)\n",
    "        prec_std = np.std(self.precision_scores)\n",
    "        rec_mean = np.mean(self.recall_scores)\n",
    "        rec_std = np.std(self.recall_scores)\n",
    "        return {self.name : {\n",
    "            'f1_mean' : f1_mean,\n",
    "            'f1_std' : f1_std,\n",
    "            'roc_mean' : roc_mean,\n",
    "            'roc_std' : roc_std,\n",
    "            'precision_mean' : prec_mean,\n",
    "            'precision_std' : prec_std,\n",
    "            'recall_mean' : rec_mean,\n",
    "            'recall_std' : rec_std\n",
    "        }}\n",
    "\n",
    "def model_runner(model_list,data):\n",
    "    for train, test in cross_fold_validations.split(data,labels):\n",
    "        x_train = data[train]\n",
    "        x_test = data[test]\n",
    "        y_train = labels[train]\n",
    "        y_test = labels[test]\n",
    "\n",
    "        for m in model_list:\n",
    "            m.model.fit(x_train,y_train)\n",
    "            predictions = m.model.predict(x_test)\n",
    "            roc_auc = roc_auc_score(y_test, predictions)\n",
    "            f1 = f1_score(y_test,predictions)\n",
    "            precision = precision_score(y_test, predictions, zero_division=0)\n",
    "            recall = recall_score(y_test, predictions)\n",
    "            m.add_f1(f1)\n",
    "            m.add_roc(roc_auc)\n",
    "            m.add_precision(precision)\n",
    "            m.add_recall(recall)"
   ]
  },
  {
   "cell_type": "code",
   "execution_count": 8,
   "id": "641de6ea-47d9-4f12-8393-2c59166dbf6d",
   "metadata": {},
   "outputs": [],
   "source": [
    "# Ensemble learner\n",
    "\n",
    "from sklearn.ensemble import VotingClassifier\n",
    "\n",
    "models = list()\n",
    "models.append(('LDA3', LinearDiscriminantAnalysis(solver='svd', priors=[0.75,0.25])))\n",
    "models.append(('QDA9', QuadraticDiscriminantAnalysis(priors=[0.9,0.1])))\n",
    "models.append(('LOGREG4', LogisticRegression(multi_class='ovr', max_iter=2000, penalty='l1', class_weight='balanced', solver='liblinear')))\n",
    "\n",
    "# define the hard voting ensemble\n",
    "ensemble = VotingClassifier(estimators=models, voting='hard')\n",
    "\n"
   ]
  },
  {
   "cell_type": "code",
   "execution_count": null,
   "id": "ace86cfa-3a7f-4e7a-90bc-e0b8af7d74c1",
   "metadata": {},
   "outputs": [],
   "source": [
    "# UI data\n",
    "\n"
   ]
  }
 ],
 "metadata": {
  "kernelspec": {
   "display_name": "Python 3 (ipykernel)",
   "language": "python",
   "name": "python3"
  },
  "language_info": {
   "codemirror_mode": {
    "name": "ipython",
    "version": 3
   },
   "file_extension": ".py",
   "mimetype": "text/x-python",
   "name": "python",
   "nbconvert_exporter": "python",
   "pygments_lexer": "ipython3",
   "version": "3.8.13"
  }
 },
 "nbformat": 4,
 "nbformat_minor": 5
}
