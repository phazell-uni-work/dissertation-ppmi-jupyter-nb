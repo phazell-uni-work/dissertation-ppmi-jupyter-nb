{
 "cells": [
  {
   "cell_type": "code",
   "execution_count": 12,
   "id": "b6e40365-7bba-4d03-addc-9c37dc84dd67",
   "metadata": {},
   "outputs": [],
   "source": [
    "import math\n",
    "import numpy as np\n",
    "import pandas\n",
    "from scipy.stats import ttest_ind\n",
    "\n",
    "original_data = pandas.read_csv('../working_data/updrsiii_all_q_p_s.csv')\n",
    "\n",
    "original_data.head()\n",
    "\n",
    "# ditch prev_sigfall\n",
    "\n",
    "fallers = original_data.query('SIGFALL == 1.0')\n",
    "fallers = fallers.drop(['PREV_SIGFALL','SIGFALL'], axis=1)\n",
    "non_fallers = original_data.query('SIGFALL == 0.0')\n",
    "non_fallers = non_fallers.drop(['PREV_SIGFALL','SIGFALL'], axis=1)"
   ]
  },
  {
   "cell_type": "code",
   "execution_count": 16,
   "id": "3329a924-1f69-489d-9f29-8f987c119212",
   "metadata": {},
   "outputs": [
    {
     "data": {
      "text/plain": [
       "(52, 35)"
      ]
     },
     "execution_count": 16,
     "metadata": {},
     "output_type": "execute_result"
    }
   ],
   "source": [
    "fallers.shape"
   ]
  },
  {
   "cell_type": "code",
   "execution_count": 14,
   "id": "d675fbbc-3615-434c-b983-7986943ca131",
   "metadata": {},
   "outputs": [
    {
     "name": "stdout",
     "output_type": "stream",
     "text": [
      "D_NP3PRSPR\n",
      "Ttest_indResult(statistic=-2.1322552897273654, pvalue=0.03715764043243103)\n"
     ]
    }
   ],
   "source": [
    "qs = non_fallers.columns\n",
    "\n",
    "significant_qs = []\n",
    "\n",
    "for q in qs:\n",
    "    p = ttest_ind(fallers[q], non_fallers[q], equal_var=False)\n",
    "    if p.pvalue < 0.05:\n",
    "        print(q)\n",
    "        print(p)\n",
    "        significant_qs.append(q)"
   ]
  },
  {
   "cell_type": "code",
   "execution_count": 28,
   "id": "3d37c946-e306-4e5b-a7cd-aeafeef4a1d6",
   "metadata": {},
   "outputs": [
    {
     "name": "stdout",
     "output_type": "stream",
     "text": [
      "D_NP3SPCH , 1.567963353718551 , 0.12204006767111499\n",
      "D_NP3FACXP , -0.011129282013935888 , 0.991158260463133\n",
      "D_NP3RIGN , -0.9100976665394452 , 0.36637235551855074\n",
      "D_NP3RIGRU , 0.49451168027248077 , 0.622604534260055\n",
      "D_NP3RIGLU , -0.015151066970478477 , 0.9879619551925122\n",
      "D_NP3RIGRL , -1.0191684912774406 , 0.3122081353242757\n",
      "D_NP3RIGLL , 0.5972159050876906 , 0.5526018987250041\n",
      "D_NP3FTAPR , -0.16376168450069498 , 0.8704283368967909\n",
      "D_NP3FTAPL , 1.7846247099756245 , 0.07911614003546458\n",
      "D_NP3HMOVR , -0.6014671333938486 , 0.5498174687630244\n",
      "D_NP3HMOVL , 0.9064457823437974 , 0.36824832078492686\n",
      "D_NP3PRSPR , -2.1322552897273654 , 0.03715764043243103\n",
      "D_NP3PRSPL , 0.4513671086644839 , 0.6533944080676367\n",
      "D_NP3TTAPR , -0.04317512399873333 , 0.9657031485185696\n",
      "D_NP3TTAPL , 1.5521327293702099 , 0.1259602818711467\n",
      "D_NP3LGAGR , -0.7522260319133178 , 0.45488429091138427\n",
      "D_NP3LGAGL , 0.17358051508900327 , 0.8627739135904672\n",
      "D_NP3RISNG , 1.0643930314590124 , 0.29162015026250276\n",
      "D_NP3GAIT , 1.8409571403484573 , 0.07065490447118936\n",
      "D_NP3FRZGT , 0.44311626934383125 , 0.6594568748243768\n",
      "D_NP3PSTBL , 1.768169968083801 , 0.08258522259133806\n",
      "D_NP3POSTR , 0.39052820080503003 , 0.6975283744426068\n",
      "D_NP3BRADY , 0.49144830556237595 , 0.6246916947222282\n",
      "D_NP3PTRMR , -0.3905506387274213 , 0.6975380962067861\n",
      "D_NP3PTRML , 0.9817517090287238 , 0.33019869889650144\n",
      "D_NP3KTRMR , 0.20960989386792095 , 0.834710421771976\n",
      "D_NP3KTRML , -0.8458930777249974 , 0.4010898423114624\n",
      "D_NP3RTARU , -0.4185935253118099 , 0.6770608401833578\n",
      "D_NP3RTALU , -0.7919538285932555 , 0.43132331712905836\n",
      "D_NP3RTARL , -1.5436559293144019 , 0.12845301733802264\n",
      "D_NP3RTALL , -1.93400442491518 , 0.05800684104635959\n",
      "D_NP3RTALJ , -1.2058014787633478 , 0.23267689321890161\n",
      "D_NP3RTCON , -0.5885367249956903 , 0.5583766486805587\n",
      "D_NP3TOT , 0.23559407288052617 , 0.8145625336976543\n",
      "D_NHY , 0.09645075622785781 , 0.9235114407964525\n"
     ]
    }
   ],
   "source": [
    "for q in qs:\n",
    "    p = ttest_ind(fallers[q], non_fallers[q], equal_var=False)\n",
    "    # print(q)\n",
    "    print(q,',', p.statistic,',', p.pvalue)"
   ]
  },
  {
   "cell_type": "code",
   "execution_count": 15,
   "id": "a384773c-5206-42a4-b1b3-f13598335823",
   "metadata": {},
   "outputs": [],
   "source": [
    "# Q's & SIGFALLS\n",
    "c_qs = significant_qs + ['SIGFALL']\n",
    "c_data_set = original_data[c_qs]\n",
    "c_data_set.to_csv('../working_data/updrsiii_select_s.csv', index=False)\n",
    "\n",
    "d_qs = significant_qs + ['PREV_SIGFALL','SIGFALL']\n",
    "d_data_set = original_data[d_qs]\n",
    "d_data_set.to_csv('../working_data/updrsiii_select_p_s.csv', index=False)"
   ]
  },
  {
   "cell_type": "code",
   "execution_count": null,
   "id": "52d64085-8078-4e05-8169-567c2fddb853",
   "metadata": {},
   "outputs": [],
   "source": []
  }
 ],
 "metadata": {
  "kernelspec": {
   "display_name": "Python 3 (ipykernel)",
   "language": "python",
   "name": "python3"
  },
  "language_info": {
   "codemirror_mode": {
    "name": "ipython",
    "version": 3
   },
   "file_extension": ".py",
   "mimetype": "text/x-python",
   "name": "python",
   "nbconvert_exporter": "python",
   "pygments_lexer": "ipython3",
   "version": "3.8.13"
  }
 },
 "nbformat": 4,
 "nbformat_minor": 5
}
