{
 "cells": [
  {
   "cell_type": "code",
   "execution_count": 28,
   "id": "33c336da-60de-4d3d-bc0c-2a5f46676197",
   "metadata": {},
   "outputs": [],
   "source": [
    "import math\n",
    "import numpy as np\n",
    "import optunity\n",
    "import optunity.metrics\n",
    "# from sklearn.preprocessing import MinMaxScaler\n",
    "# from sklearn.preprocessing import normalize\n",
    "\n",
    "# short form for now\n",
    "original_data = np.genfromtxt('../../working_data/updrsii_short_form.csv', delimiter=',', skip_header=True)\n",
    "n_rows, n_columns = original_data.shape\n",
    "\n",
    "data = original_data[:,0:(n_columns - 1)]\n",
    "labels = original_data[:,(n_columns - 1)]\n",
    "\n",
    "# Common cross validator for all models\n",
    "cv_decorator = optunity.cross_validated(x=data, y=labels, num_folds=10)\n",
    "\n",
    "results = []\n"
   ]
  },
  {
   "cell_type": "code",
   "execution_count": 20,
   "id": "2c12ed93-8cdb-43f5-9332-99d0b2709ad1",
   "metadata": {},
   "outputs": [
    {
     "name": "stdout",
     "output_type": "stream",
     "text": [
      "Optimal parameters{'sigfall_prior': 0.024700000000000024}\n",
      "AUROC of tuned model: 0.633\n"
     ]
    }
   ],
   "source": [
    "# Gaussian Naive Bayes\n",
    "from sklearn.naive_bayes import GaussianNB\n",
    "\n",
    "def gnb_tuned_auroc(x_train, y_train, x_test, y_test, sigfall_prior):\n",
    "    no_fall_prior = 1.0 - sigfall_prior\n",
    "    model = GaussianNB(priors=[no_fall_prior,sigfall_prior]).fit(x_train, y_train)\n",
    "    decision_values = model.predict(x_test)\n",
    "    auc = optunity.metrics.roc_auc(y_test, decision_values)\n",
    "    return auc\n",
    "    \n",
    "    \n",
    "gnb_tuned_auroc = cv_decorator(gnb_tuned_auroc)\n",
    "gnb_optimal_pars, gnb_info, _ = optunity.maximize(gnb_tuned_auroc, solver_name='grid search', num_evals=100, sigfall_prior=[0.01,0.99])\n",
    "\n",
    "print(\"Optimal parameters\" + str(gnb_optimal_pars))\n",
    "print(\"AUROC of tuned model: %1.3f\" % gnb_info.optimum)\n",
    "\n",
    "results.append({'model': 'Gaussian Naive Bayes',\n",
    "               'Optimal parameters': gnb_optimal_pars,\n",
    "               'ROC_AUC': gnb_info.optimum\n",
    "               })"
   ]
  },
  {
   "cell_type": "code",
   "execution_count": 29,
   "id": "bc5410af-399b-4906-8a83-6153497e4a1c",
   "metadata": {},
   "outputs": [
    {
     "ename": "NameError",
     "evalue": "name 'rf_optimal_pars' is not defined",
     "output_type": "error",
     "traceback": [
      "\u001b[0;31m---------------------------------------------------------------------------\u001b[0m",
      "\u001b[0;31mNameError\u001b[0m                                 Traceback (most recent call last)",
      "Input \u001b[0;32mIn [29]\u001b[0m, in \u001b[0;36m<cell line: 29>\u001b[0;34m()\u001b[0m\n\u001b[1;32m     26\u001b[0m forest_tuned_auroc \u001b[38;5;241m=\u001b[39m cv_decorator(forest_tuned_auroc)\n\u001b[1;32m     27\u001b[0m rf_optimal_pairs, rf_info, _ \u001b[38;5;241m=\u001b[39m optunity\u001b[38;5;241m.\u001b[39mmaximize_structured(forest_tuned_auroc, search_space\u001b[38;5;241m=\u001b[39mforest_space, num_evals\u001b[38;5;241m=\u001b[39m\u001b[38;5;241m100\u001b[39m)\n\u001b[0;32m---> 29\u001b[0m \u001b[38;5;28mprint\u001b[39m(\u001b[38;5;124m\"\u001b[39m\u001b[38;5;124mOptimal parameters\u001b[39m\u001b[38;5;124m\"\u001b[39m \u001b[38;5;241m+\u001b[39m \u001b[38;5;28mstr\u001b[39m(\u001b[43mrf_optimal_pars\u001b[49m))\n\u001b[1;32m     30\u001b[0m \u001b[38;5;28mprint\u001b[39m(\u001b[38;5;124m\"\u001b[39m\u001b[38;5;124mAUROC of tuned RF: \u001b[39m\u001b[38;5;132;01m%1.3f\u001b[39;00m\u001b[38;5;124m\"\u001b[39m \u001b[38;5;241m%\u001b[39m rf_info\u001b[38;5;241m.\u001b[39moptimum)\n",
      "\u001b[0;31mNameError\u001b[0m: name 'rf_optimal_pars' is not defined"
     ]
    }
   ],
   "source": [
    "# Random Forest\n",
    "from sklearn.ensemble import RandomForestClassifier\n",
    "\n",
    "forest_space = { 'criterion': {\n",
    "        'gini': {'n_estimators': [50,200], 'cwn': [1,3]},\n",
    "        'entropy': {'n_estimators': [50,200], 'cwn': [1,3]},\n",
    "        'log_loss': {'n_estimators': [50,200], 'cwn': [1,3]}\n",
    "    }\n",
    "}\n",
    "\n",
    "def forest_tuned_auroc(x_train, y_train, x_test, y_test, criterion, n_estimators, cwn):\n",
    "    c = int(cwn)\n",
    "    nest = math.floor(n_estimators)\n",
    "    if c == 1 :\n",
    "        class_weight = 'balanced'\n",
    "    elif c == 2 :\n",
    "        class_weight = 'balanced_subsample'\n",
    "    else :\n",
    "        class_weight = None\n",
    "        \n",
    "    model = RandomForestClassifier(criterion=criterion, n_estimators=nest, class_weight = class_weight).fit(x_train, y_train)\n",
    "    decision_values = model.predict(x_test)\n",
    "    auc = optunity.metrics.roc_auc(y_test, decision_values)\n",
    "    return auc\n",
    "\n",
    "forest_tuned_auroc = cv_decorator(forest_tuned_auroc)\n",
    "rf_optimal_pairs, rf_info, _ = optunity.maximize_structured(forest_tuned_auroc, search_space=forest_space, num_evals=100)\n",
    "\n",
    "print(\"Optimal parameters\" + str(rf_optimal_pairs))\n",
    "print(\"AUROC of tuned RF: %1.3f\" % rf_info.optimum)\n",
    "    "
   ]
  },
  {
   "cell_type": "code",
   "execution_count": 31,
   "id": "334a266a-faed-4bc9-bab4-708e410eb628",
   "metadata": {},
   "outputs": [
    {
     "name": "stdout",
     "output_type": "stream",
     "text": [
      "Optimal parameters{'n_estimators': 72.5, 'lrate': 1.045}\n",
      "AUROC of tuned model: 0.543\n"
     ]
    }
   ],
   "source": [
    "# AdaBoost\n",
    "\n",
    "from sklearn.ensemble import AdaBoostClassifier\n",
    "\n",
    "def ada_tuned_auroc(x_train, y_train, x_test, y_test, n_estimators, lrate):\n",
    "    nest = math.floor(n_estimators)\n",
    "    model = AdaBoostClassifier(n_estimators=nest, learning_rate=lrate).fit(x_train, y_train)\n",
    "    decision_values = model.predict(x_test)\n",
    "    auc = optunity.metrics.roc_auc(y_test, decision_values)\n",
    "    return auc\n",
    "\n",
    "ada_tuned_auroc = cv_decorator(ada_tuned_auroc)\n",
    "ada_optimal_pars, ada_info, _ = optunity.maximize(ada_tuned_auroc, solver_name='grid search', num_evals=100, n_estimators=[50,150], lrate=[1, 10])\n",
    "\n",
    "print(\"Optimal parameters\" + str(ada_optimal_pars))\n",
    "print(\"AUROC of tuned model: %1.3f\" % ada_info.optimum)"
   ]
  }
 ],
 "metadata": {
  "kernelspec": {
   "display_name": "Python 3 (ipykernel)",
   "language": "python",
   "name": "python3"
  },
  "language_info": {
   "codemirror_mode": {
    "name": "ipython",
    "version": 3
   },
   "file_extension": ".py",
   "mimetype": "text/x-python",
   "name": "python",
   "nbconvert_exporter": "python",
   "pygments_lexer": "ipython3",
   "version": "3.8.13"
  }
 },
 "nbformat": 4,
 "nbformat_minor": 5
}
