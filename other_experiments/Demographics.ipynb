{
 "cells": [
  {
   "cell_type": "code",
   "execution_count": 2,
   "id": "233e0399-aa54-48a8-a5a3-159bf3ec31e4",
   "metadata": {},
   "outputs": [],
   "source": [
    "import pandas\n",
    "import numpy\n",
    "\n",
    "df_pat_main = pandas.read_csv('../source_data/participant_main.csv')\n",
    "df_u_i = pandas.read_csv('../source_data/u_i_records.csv')\n",
    "df_u_ii = pandas.read_csv('../source_data/u_ii_records.csv')\n",
    "df_demographics = pandas.read_csv('../source_data/Demographics.csv')\n",
    "df_sigfall = pandas.read_csv('../source_data/sigfall_main.csv')\n"
   ]
  },
  {
   "cell_type": "code",
   "execution_count": 5,
   "id": "9e781052-e226-4711-8dec-a37b01a80723",
   "metadata": {},
   "outputs": [
    {
     "data": {
      "text/html": [
       "<div>\n",
       "<style scoped>\n",
       "    .dataframe tbody tr th:only-of-type {\n",
       "        vertical-align: middle;\n",
       "    }\n",
       "\n",
       "    .dataframe tbody tr th {\n",
       "        vertical-align: top;\n",
       "    }\n",
       "\n",
       "    .dataframe thead th {\n",
       "        text-align: right;\n",
       "    }\n",
       "</style>\n",
       "<table border=\"1\" class=\"dataframe\">\n",
       "  <thead>\n",
       "    <tr style=\"text-align: right;\">\n",
       "      <th></th>\n",
       "      <th>Unnamed: 0</th>\n",
       "      <th>PATNO</th>\n",
       "      <th>EVENT_ID</th>\n",
       "      <th>INFODT</th>\n",
       "    </tr>\n",
       "  </thead>\n",
       "  <tbody>\n",
       "    <tr>\n",
       "      <th>0</th>\n",
       "      <td>25</td>\n",
       "      <td>3001</td>\n",
       "      <td>V17</td>\n",
       "      <td>09/2021</td>\n",
       "    </tr>\n",
       "    <tr>\n",
       "      <th>1</th>\n",
       "      <td>26</td>\n",
       "      <td>3001</td>\n",
       "      <td>V18</td>\n",
       "      <td>07/2022</td>\n",
       "    </tr>\n",
       "    <tr>\n",
       "      <th>2</th>\n",
       "      <td>44</td>\n",
       "      <td>3002</td>\n",
       "      <td>V17</td>\n",
       "      <td>09/2021</td>\n",
       "    </tr>\n",
       "    <tr>\n",
       "      <th>3</th>\n",
       "      <td>45</td>\n",
       "      <td>3002</td>\n",
       "      <td>V18</td>\n",
       "      <td>03/2022</td>\n",
       "    </tr>\n",
       "    <tr>\n",
       "      <th>4</th>\n",
       "      <td>62</td>\n",
       "      <td>3003</td>\n",
       "      <td>V18</td>\n",
       "      <td>04/2022</td>\n",
       "    </tr>\n",
       "  </tbody>\n",
       "</table>\n",
       "</div>"
      ],
      "text/plain": [
       "   Unnamed: 0  PATNO EVENT_ID   INFODT\n",
       "0          25   3001      V17  09/2021\n",
       "1          26   3001      V18  07/2022\n",
       "2          44   3002      V17  09/2021\n",
       "3          45   3002      V18  03/2022\n",
       "4          62   3003      V18  04/2022"
      ]
     },
     "execution_count": 5,
     "metadata": {},
     "output_type": "execute_result"
    }
   ],
   "source": [
    "# SEX: 1 = Male, 0 = Female\n",
    "# df_demographics.query('CHLDBEAR == 1 and SEX == 1')[['SEX','CHLDBEAR']]\n",
    "# df_demographics.query('PATNO == 3001')['SEX'].values.tolist()[0]\n",
    "df_u_ii.head()"
   ]
  },
  {
   "cell_type": "code",
   "execution_count": 6,
   "id": "c9c3f8d0-1b3b-44e4-9d33-7135541efa99",
   "metadata": {},
   "outputs": [],
   "source": [
    "x = df_u_i['PATNO'].tolist() + df_u_ii['PATNO'].tolist()\n",
    "y = set(x)\n",
    "unique_patnos = list(y)\n",
    "\n",
    "len(unique_patnos)\n",
    "\n",
    "pd_patnos = []\n",
    "pro_dromal_patnos = []\n",
    "\n",
    "for p in unique_patnos:\n",
    "    patno = p\n",
    "    pd = df_pat_main.query('PATNO == @patno')['COHORT_PD'].values.tolist()[0]\n",
    "    if pd == 1:\n",
    "        pd_patnos.append(p)\n",
    "    else:\n",
    "        pro_dromal_patnos.append(p)\n"
   ]
  },
  {
   "cell_type": "code",
   "execution_count": 7,
   "id": "0c7cd4b1-47ef-4e15-aba4-65e85f987a93",
   "metadata": {},
   "outputs": [
    {
     "name": "stdout",
     "output_type": "stream",
     "text": [
      "319\n",
      "231\n",
      "550\n"
     ]
    }
   ],
   "source": [
    "pd_total = len(pd_patnos)\n",
    "dromal_total = len(pro_dromal_patnos)\n",
    "\n",
    "print(len(pd_patnos))\n",
    "print(len(pro_dromal_patnos))\n",
    "\n",
    "len(pd_patnos) + len(pro_dromal_patnos) == len(unique_patnos)\n",
    "print(len(unique_patnos))"
   ]
  },
  {
   "cell_type": "code",
   "execution_count": 9,
   "id": "45a36125-9ad6-4f14-9c4d-936cf19f95a3",
   "metadata": {},
   "outputs": [
    {
     "name": "stdout",
     "output_type": "stream",
     "text": [
      "202\n",
      "117\n",
      "108\n",
      "123\n"
     ]
    }
   ],
   "source": [
    "# Count by gender\n",
    "\n",
    "pd_m = []\n",
    "pd_f = []\n",
    "pd_sex = []\n",
    "\n",
    "for x in pd_patnos:\n",
    "    sex = df_demographics.query('PATNO == @x')['SEX'].values.tolist()[0]\n",
    "    pd_sex.append((x,sex))\n",
    "    if sex == 0:\n",
    "        pd_f.append(1)\n",
    "    else:\n",
    "        pd_m.append(1)\n",
    "\n",
    "print(len(pd_m))\n",
    "print(len(pd_f))\n",
    "\n",
    "dromal_m = []\n",
    "dromal_f =[]\n",
    "\n",
    "for x in pro_dromal_patnos:\n",
    "    sex = df_demographics.query('PATNO == @x')['SEX'].values.tolist()[0]\n",
    "    if sex == 0:\n",
    "        dromal_f.append(1)\n",
    "    else:\n",
    "        dromal_m.append(1)\n",
    "\n",
    "print(len(dromal_m))\n",
    "print(len(dromal_f))"
   ]
  },
  {
   "cell_type": "code",
   "execution_count": 10,
   "id": "c762410f-88aa-4b4e-8448-5e146e50290b",
   "metadata": {},
   "outputs": [
    {
     "data": {
      "text/plain": [
       "319"
      ]
     },
     "execution_count": 10,
     "metadata": {},
     "output_type": "execute_result"
    }
   ],
   "source": [
    "df_demographics['SEX'].value_counts()\n",
    "\n",
    "len(pd_sex)"
   ]
  },
  {
   "cell_type": "code",
   "execution_count": 11,
   "id": "11c321ab-23c3-46de-ba96-5b839aeb6a24",
   "metadata": {},
   "outputs": [
    {
     "data": {
      "text/plain": [
       "734"
      ]
     },
     "execution_count": 11,
     "metadata": {},
     "output_type": "execute_result"
    }
   ],
   "source": [
    "# n_records in the study\n",
    "\n",
    "# def string_\n",
    "\n",
    "records = pandas.concat([df_u_i[['PATNO','EVENT_ID']], df_u_ii[['PATNO','EVENT_ID']]], ignore_index=True, axis=0)\n",
    "\n",
    "records['PATNO'] = records['PATNO'].astype(str)\n",
    "records['ID'] = records['PATNO'] + records['EVENT_ID']\n",
    "\n",
    "unique_records = list(set(records['ID'].tolist()))\n",
    "len(unique_records)"
   ]
  },
  {
   "cell_type": "code",
   "execution_count": 12,
   "id": "91572b77-2a6f-418d-87b8-cf2d5bc395da",
   "metadata": {},
   "outputs": [
    {
     "name": "stdout",
     "output_type": "stream",
     "text": [
      "(723, 4)\n",
      "(726, 4)\n"
     ]
    }
   ],
   "source": [
    "print(df_u_i.shape)\n",
    "print(df_u_ii.shape)"
   ]
  },
  {
   "cell_type": "code",
   "execution_count": 13,
   "id": "189d289f-d657-4db4-a92f-af7a483aad95",
   "metadata": {},
   "outputs": [
    {
     "data": {
      "text/plain": [
       "732"
      ]
     },
     "execution_count": 13,
     "metadata": {},
     "output_type": "execute_result"
    }
   ],
   "source": [
    "# Age analysis\n",
    "\n",
    "df_sigfall['PATNO'] = df_sigfall['PATNO'].astype(str)\n",
    "df_sigfall['ID'] = df_sigfall['PATNO'] + df_sigfall['EVENT_ID']\n",
    "\n",
    "record_ages = []\n",
    "for a in unique_records:\n",
    "    try:\n",
    "        age = df_sigfall.query('ID == @a')['AGE_AT_EVENT'].values.tolist()[0]\n",
    "        record_ages.append(age)\n",
    "    except:\n",
    "        pass\n",
    "\n",
    "len(record_ages)"
   ]
  },
  {
   "cell_type": "code",
   "execution_count": 14,
   "id": "70e6f2ec-dc8d-4038-a865-204c0d2ac610",
   "metadata": {},
   "outputs": [
    {
     "data": {
      "text/plain": [
       "count    732.000000\n",
       "mean      68.038251\n",
       "std        8.278685\n",
       "min       38.900000\n",
       "25%       62.400000\n",
       "50%       68.500000\n",
       "75%       73.800000\n",
       "max       90.600000\n",
       "dtype: float64"
      ]
     },
     "execution_count": 14,
     "metadata": {},
     "output_type": "execute_result"
    }
   ],
   "source": [
    "pandas.Series(record_ages).describe()"
   ]
  }
 ],
 "metadata": {
  "kernelspec": {
   "display_name": "Python 3 (ipykernel)",
   "language": "python",
   "name": "python3"
  },
  "language_info": {
   "codemirror_mode": {
    "name": "ipython",
    "version": 3
   },
   "file_extension": ".py",
   "mimetype": "text/x-python",
   "name": "python",
   "nbconvert_exporter": "python",
   "pygments_lexer": "ipython3",
   "version": "3.8.13"
  }
 },
 "nbformat": 4,
 "nbformat_minor": 5
}
