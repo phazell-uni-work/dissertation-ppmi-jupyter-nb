{
 "cells": [
  {
   "cell_type": "code",
   "execution_count": 1,
   "id": "b99ade6f-f0a0-4b3e-a75f-bad883863dfe",
   "metadata": {},
   "outputs": [],
   "source": [
    "import math\n",
    "import numpy as np\n",
    "import pandas\n",
    "import itertools\n",
    "from sklearn.metrics import f1_score, roc_auc_score, precision_score, recall_score\n",
    "\n",
    "\n",
    "uiv_data = pandas.read_csv('../working_data/updrsiv_all_q_p_s.csv')"
   ]
  },
  {
   "cell_type": "code",
   "execution_count": 2,
   "id": "f212686c-d277-42f8-8cbf-11e053639a2a",
   "metadata": {},
   "outputs": [],
   "source": [
    "def query_builder(qs):\n",
    "    output = \"\"\n",
    "    for q in qs:\n",
    "        add = f'{q} > 0.0 and '\n",
    "        output = output + add        \n",
    "    return output[:-5]\n",
    "\n",
    "def test_q_subset(source,qs,results):\n",
    "    df_tmp = source.query(query_builder(qs))\n",
    "    row,_ = df_tmp.shape\n",
    "    if row > 10:\n",
    "        y = df_tmp['SIGFALL']\n",
    "        predictions = [1.0] * len(y)\n",
    "        try:\n",
    "            roc = roc_auc_score(y, predictions)\n",
    "            if roc > 0.6 :\n",
    "                results.append((qs,roc, precision_score(y, predictions, zero_division=0)))\n",
    "        except:\n",
    "            if y.iloc[0] == 1.0 :\n",
    "                results.append((qs,1.0, 1.0)) \n",
    "            else:\n",
    "                pass\n"
   ]
  },
  {
   "cell_type": "code",
   "execution_count": 5,
   "id": "1afcdbf0-329e-4b0f-b62f-d591855d8d69",
   "metadata": {},
   "outputs": [],
   "source": [
    "uiv_all_qs = {'D_NP4WDYSK', 'D_NP4WDYSKDEN', 'D_NP4WDYSKNUM', 'D_NP4WDYSKPCT',\n",
    "       'D_NP4DYSKI', 'D_NP4OFF', 'D_NP4OFFDEN', 'D_NP4OFFNUM', 'D_NP4OFFPCT',\n",
    "       'D_NP4FLCTI', 'D_NP4FLCTX', 'D_NP4DYSTN', 'D_NP4DYSTNDEN',\n",
    "       'D_NP4DYSTNNUM', 'D_NP4DYSTNPCT'}\n",
    "# len(uiv_all_qs)\n",
    "uiv_sets = []\n",
    "\n",
    "for x in range(1,len(uiv_all_qs)):\n",
    "    uiv_sets.append(list(itertools.combinations(uiv_all_qs, x)))"
   ]
  },
  {
   "cell_type": "code",
   "execution_count": 6,
   "id": "0934253a-e48d-4b73-a886-665041771076",
   "metadata": {},
   "outputs": [
    {
     "name": "stdout",
     "output_type": "stream",
     "text": [
      "32766\n"
     ]
    },
    {
     "data": {
      "text/plain": [
       "('D_NP4FLCTX',)"
      ]
     },
     "execution_count": 6,
     "metadata": {},
     "output_type": "execute_result"
    }
   ],
   "source": [
    "uiv_flatten = [element for sublist in uiv_sets for element in sublist]\n",
    "print(len(uiv_flatten))\n",
    "uiv_flatten[0]"
   ]
  },
  {
   "cell_type": "code",
   "execution_count": 7,
   "id": "8d97316f-9be3-4869-9a91-906ed851065d",
   "metadata": {},
   "outputs": [],
   "source": [
    "# Try ALL the combinations:\n",
    "\n",
    "uiv_results = []\n",
    "for qs in uiv_flatten:\n",
    "    test_q_subset(uiv_data, qs, uiv_results)"
   ]
  },
  {
   "cell_type": "code",
   "execution_count": 8,
   "id": "c60bc59a-e7b2-4524-b502-f982ae773d7c",
   "metadata": {},
   "outputs": [
    {
     "data": {
      "text/plain": [
       "[]"
      ]
     },
     "execution_count": 8,
     "metadata": {},
     "output_type": "execute_result"
    }
   ],
   "source": [
    "uiv_results"
   ]
  },
  {
   "cell_type": "code",
   "execution_count": null,
   "id": "65a0fe16-bf08-42b0-b1b4-ea4658c7bcbb",
   "metadata": {},
   "outputs": [],
   "source": []
  }
 ],
 "metadata": {
  "kernelspec": {
   "display_name": "Python 3 (ipykernel)",
   "language": "python",
   "name": "python3"
  },
  "language_info": {
   "codemirror_mode": {
    "name": "ipython",
    "version": 3
   },
   "file_extension": ".py",
   "mimetype": "text/x-python",
   "name": "python",
   "nbconvert_exporter": "python",
   "pygments_lexer": "ipython3",
   "version": "3.8.13"
  }
 },
 "nbformat": 4,
 "nbformat_minor": 5
}
