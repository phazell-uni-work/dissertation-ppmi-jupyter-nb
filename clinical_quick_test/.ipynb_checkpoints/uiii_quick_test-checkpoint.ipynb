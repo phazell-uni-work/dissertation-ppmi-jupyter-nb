{
 "cells": [
  {
   "cell_type": "code",
   "execution_count": 2,
   "id": "b99ade6f-f0a0-4b3e-a75f-bad883863dfe",
   "metadata": {},
   "outputs": [],
   "source": [
    "import math\n",
    "import numpy as np\n",
    "import pandas\n",
    "import itertools\n",
    "from sklearn.metrics import f1_score, roc_auc_score, precision_score, recall_score\n",
    "\n",
    "\n",
    "uiii_data = pandas.read_csv('../working_data/updrsiii_all_q_p_s.csv')"
   ]
  },
  {
   "cell_type": "code",
   "execution_count": 3,
   "id": "f212686c-d277-42f8-8cbf-11e053639a2a",
   "metadata": {},
   "outputs": [],
   "source": [
    "def query_builder(qs):\n",
    "    output = \"\"\n",
    "    for q in qs:\n",
    "        add = f'{q} > 0.0 and '\n",
    "        output = output + add        \n",
    "    return output[:-5]\n",
    "\n",
    "def test_q_subset(source,qs,results):\n",
    "    df_tmp = source.query(query_builder(qs))\n",
    "    row,_ = df_tmp.shape\n",
    "    if row > 10:\n",
    "        y = df_tmp['SIGFALL']\n",
    "        predictions = [1.0] * len(y)\n",
    "        try:\n",
    "            roc = roc_auc_score(y, predictions)\n",
    "            if roc > 0.6 :\n",
    "                results.append((qs,roc, precision_score(y, predictions, zero_division=0)))\n",
    "        except:\n",
    "            if y.iloc[0] == 1.0 :\n",
    "                results.append((qs,1.0, 1.0)) \n",
    "            else:\n",
    "                pass\n"
   ]
  },
  {
   "cell_type": "code",
   "execution_count": 8,
   "id": "1afcdbf0-329e-4b0f-b62f-d591855d8d69",
   "metadata": {},
   "outputs": [
    {
     "data": {
      "text/plain": [
       "35"
      ]
     },
     "execution_count": 8,
     "metadata": {},
     "output_type": "execute_result"
    }
   ],
   "source": [
    "uiii_all_qs = {'D_NP3SPCH', 'D_NP3FACXP',\n",
    "       'D_NP3RIGN', 'D_NP3RIGRU', 'D_NP3RIGLU', 'D_NP3RIGRL', 'D_NP3RIGLL',\n",
    "       'D_NP3FTAPR', 'D_NP3FTAPL', 'D_NP3HMOVR', 'D_NP3HMOVL', 'D_NP3PRSPR',\n",
    "       'D_NP3PRSPL', 'D_NP3TTAPR', 'D_NP3TTAPL', 'D_NP3LGAGR', 'D_NP3LGAGL',\n",
    "       'D_NP3RISNG', 'D_NP3GAIT', 'D_NP3FRZGT', 'D_NP3PSTBL', 'D_NP3POSTR',\n",
    "       'D_NP3BRADY', 'D_NP3PTRMR', 'D_NP3PTRML', 'D_NP3KTRMR', 'D_NP3KTRML',\n",
    "       'D_NP3RTARU', 'D_NP3RTALU', 'D_NP3RTARL', 'D_NP3RTALL', 'D_NP3RTALJ',\n",
    "       'D_NP3RTCON', 'D_NP3TOT', 'D_NHY'}\n",
    "\n",
    "len(uiii_all_qs)\n",
    "\n",
    "# Total number of possible queries == 34,359,738,366 -> were gonna need MUCH bigger RAM \n",
    "\n",
    "# uiii_sets = []\n",
    "\n",
    "# for x in range(1,len(uiii_all_qs)):\n",
    "#     uiii_sets.append(list(itertools.combinations(uiii_all_qs, x)))"
   ]
  },
  {
   "cell_type": "code",
   "execution_count": 5,
   "id": "0934253a-e48d-4b73-a886-665041771076",
   "metadata": {},
   "outputs": [
    {
     "name": "stdout",
     "output_type": "stream",
     "text": [
      "32766\n"
     ]
    },
    {
     "data": {
      "text/plain": [
       "('D_NP3SPCH',)"
      ]
     },
     "execution_count": 5,
     "metadata": {},
     "output_type": "execute_result"
    }
   ],
   "source": [
    "# uiii_flatten = [element for sublist in uiii_sets for element in sublist]\n",
    "# print(len(uiii_flatten))\n",
    "# uiii_flatten[0]"
   ]
  },
  {
   "cell_type": "code",
   "execution_count": 6,
   "id": "8d97316f-9be3-4869-9a91-906ed851065d",
   "metadata": {},
   "outputs": [],
   "source": [
    "# # Try ALL the combinations:\n",
    "\n",
    "# uiii_results = []\n",
    "# for qs in uiii_flatten:\n",
    "#     test_q_subset(uiii_data, qs, uiii_results)"
   ]
  },
  {
   "cell_type": "code",
   "execution_count": 7,
   "id": "c60bc59a-e7b2-4524-b502-f982ae773d7c",
   "metadata": {},
   "outputs": [
    {
     "data": {
      "text/plain": [
       "[]"
      ]
     },
     "execution_count": 7,
     "metadata": {},
     "output_type": "execute_result"
    }
   ],
   "source": [
    "uiii_results"
   ]
  },
  {
   "cell_type": "code",
   "execution_count": null,
   "id": "19d49b30-58f6-471c-86ce-7dd26fa32496",
   "metadata": {},
   "outputs": [],
   "source": []
  }
 ],
 "metadata": {
  "kernelspec": {
   "display_name": "Python 3 (ipykernel)",
   "language": "python",
   "name": "python3"
  },
  "language_info": {
   "codemirror_mode": {
    "name": "ipython",
    "version": 3
   },
   "file_extension": ".py",
   "mimetype": "text/x-python",
   "name": "python",
   "nbconvert_exporter": "python",
   "pygments_lexer": "ipython3",
   "version": "3.8.13"
  }
 },
 "nbformat": 4,
 "nbformat_minor": 5
}
