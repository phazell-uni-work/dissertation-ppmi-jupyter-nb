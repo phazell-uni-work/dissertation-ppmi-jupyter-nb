{
 "cells": [
  {
   "cell_type": "code",
   "execution_count": 2,
   "id": "b99ade6f-f0a0-4b3e-a75f-bad883863dfe",
   "metadata": {},
   "outputs": [],
   "source": [
    "import math\n",
    "import numpy as np\n",
    "import pandas\n",
    "import itertools\n",
    "from sklearn.metrics import f1_score, roc_auc_score, precision_score, recall_score\n",
    "\n",
    "\n",
    "uii_data = pandas.read_csv('../working_data/updrsii_all_q_p_s.csv')"
   ]
  },
  {
   "cell_type": "code",
   "execution_count": 3,
   "id": "1afcdbf0-329e-4b0f-b62f-d591855d8d69",
   "metadata": {},
   "outputs": [],
   "source": [
    "# Perebor it:\n",
    "\n",
    "uii_all_qs = {'D_NP2SPCH', 'D_NP2SALV', 'D_NP2SWAL', 'D_NP2EAT',\n",
    "       'D_NP2DRES', 'D_NP2HYGN', 'D_NP2HWRT', 'D_NP2HOBB', 'D_NP2TURN',\n",
    "       'D_NP2TRMR', 'D_NP2RISE', 'D_NP2WALK', 'D_NP2FREZ'}\n",
    "\n",
    "uii_sets = []\n",
    "\n",
    "for x in range(1,len(uii_all_qs)):\n",
    "    uii_sets.append(list(itertools.combinations(uii_all_qs, x)))"
   ]
  },
  {
   "cell_type": "code",
   "execution_count": 4,
   "id": "0934253a-e48d-4b73-a886-665041771076",
   "metadata": {},
   "outputs": [
    {
     "data": {
      "text/plain": [
       "8190"
      ]
     },
     "execution_count": 4,
     "metadata": {},
     "output_type": "execute_result"
    }
   ],
   "source": [
    "uii_flatten = [element for sublist in uii_sets for element in sublist]\n",
    "uii_flatten[0]\n",
    "len(uii_flatten)"
   ]
  },
  {
   "cell_type": "code",
   "execution_count": 4,
   "id": "a698321f-1ef8-4c98-8fc8-c548fe50ae98",
   "metadata": {},
   "outputs": [],
   "source": [
    "def query_builder(qs):\n",
    "    output = \"\"\n",
    "    for q in qs:\n",
    "        add = f'{q} > 0.0 and '\n",
    "        output = output + add        \n",
    "    return output[:-5]\n",
    "\n",
    "# query_builder(uii_flatten[120])\n",
    "\n",
    "def test_q_subset(source,qs,results):\n",
    "    df_tmp = source.query(query_builder(qs))\n",
    "    row,_ = df_tmp.shape\n",
    "    if row > 10:\n",
    "        y = df_tmp['SIGFALL']\n",
    "        predictions = [1.0] * len(y)\n",
    "        try:\n",
    "            roc = roc_auc_score(y, predictions)\n",
    "            if roc > 0.6 :\n",
    "                results.append((qs,roc, precision_score(y, predictions, zero_division=0)))\n",
    "        except:\n",
    "            if y.iloc[0] == 1.0 :\n",
    "                results.append((qs,1.0, 1.0)) \n",
    "            else:\n",
    "                pass\n",
    "        \n",
    "# results = []\n",
    "# test_q_subset(uii_data, uii_flatten[120], results)\n",
    "# results"
   ]
  },
  {
   "cell_type": "code",
   "execution_count": 5,
   "id": "8d97316f-9be3-4869-9a91-906ed851065d",
   "metadata": {},
   "outputs": [],
   "source": [
    "# Try ALL the combinations:\n",
    "\n",
    "uii_results = []\n",
    "for qs in uii_flatten:\n",
    "    test_q_subset(uii_data, qs, uii_results)"
   ]
  },
  {
   "cell_type": "code",
   "execution_count": 6,
   "id": "c60bc59a-e7b2-4524-b502-f982ae773d7c",
   "metadata": {},
   "outputs": [
    {
     "data": {
      "text/plain": [
       "[]"
      ]
     },
     "execution_count": 6,
     "metadata": {},
     "output_type": "execute_result"
    }
   ],
   "source": [
    "uii_results"
   ]
  },
  {
   "cell_type": "code",
   "execution_count": null,
   "id": "5506a6c2-5391-42d8-a7dd-4d020947f733",
   "metadata": {},
   "outputs": [],
   "source": []
  }
 ],
 "metadata": {
  "kernelspec": {
   "display_name": "Python 3 (ipykernel)",
   "language": "python",
   "name": "python3"
  },
  "language_info": {
   "codemirror_mode": {
    "name": "ipython",
    "version": 3
   },
   "file_extension": ".py",
   "mimetype": "text/x-python",
   "name": "python",
   "nbconvert_exporter": "python",
   "pygments_lexer": "ipython3",
   "version": "3.8.13"
  }
 },
 "nbformat": 4,
 "nbformat_minor": 5
}
